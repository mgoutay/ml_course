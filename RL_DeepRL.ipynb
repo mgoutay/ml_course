{
 "cells": [
  {
   "cell_type": "markdown",
   "metadata": {},
   "source": [
    "# Introduction"
   ]
  },
  {
   "cell_type": "markdown",
   "metadata": {},
   "source": [
    "# Initialization\n",
    "\n",
    "Import and initialize everyting that is needed"
   ]
  },
  {
   "cell_type": "code",
   "execution_count": 1,
   "metadata": {},
   "outputs": [],
   "source": [
    "# Install TensorFlow 2.0 on Google Collab if needed\n",
    "try:\n",
    "  # %tensorflow_version only exists in Colab.\n",
    "  %tensorflow_version 2.x\n",
    "except Exception:\n",
    "    pass"
   ]
  },
  {
   "cell_type": "markdown",
   "metadata": {},
   "source": [
    "If you selected the GPU hardware acceleration, you should at least see one GPU available :"
   ]
  },
  {
   "cell_type": "code",
   "execution_count": 1,
   "metadata": {},
   "outputs": [
    {
     "name": "stdout",
     "output_type": "stream",
     "text": [
      "Tensorflow version:  2.0.0\n",
      "Number of GPUs available : 4\n",
      "Only GPU number 0 used\n"
     ]
    }
   ],
   "source": [
    "#Set the GPU you want to use\n",
    "num_GPU = 0\n",
    "\n",
    "import tensorflow as tf\n",
    "from tensorflow.keras.layers import Dense\n",
    "\n",
    "print('Tensorflow version: ', tf.__version__)\n",
    "\n",
    "gpus = tf.config.experimental.list_physical_devices(\"GPU\")\n",
    "print('Number of GPUs available :', len(gpus))\n",
    "\n",
    "if num_GPU < len(gpus):\n",
    "    tf.config.experimental.set_visible_devices(gpus[num_GPU], 'GPU')\n",
    "    tf.config.experimental.set_memory_growth(gpus[num_GPU], True)\n",
    "    print('Only GPU number', num_GPU, 'used')"
   ]
  },
  {
   "cell_type": "code",
   "execution_count": 2,
   "metadata": {},
   "outputs": [],
   "source": [
    "import os\n",
    "import copy\n",
    "import sys\n",
    "\n",
    "import numpy as np\n",
    "import matplotlib\n",
    "import matplotlib.pyplot as plt  "
   ]
  },
  {
   "cell_type": "code",
   "execution_count": 3,
   "metadata": {},
   "outputs": [
    {
     "data": {
      "text/html": [
       "\n",
       "<style>\n",
       "    div#notebook-container    { width: 80%; }\n",
       "    div#menubar-container     { width: 100%; }\n",
       "    div#maintoolbar-container { width: 100%; }\n",
       "</style>\n"
      ],
      "text/plain": [
       "<IPython.core.display.HTML object>"
      ]
     },
     "metadata": {},
     "output_type": "display_data"
    }
   ],
   "source": [
    "# Configure the view in Jupyter Notebook\n",
    "from IPython.display import display, HTML\n",
    "\n",
    "display(HTML(data=\"\"\"\n",
    "<style>\n",
    "    div#notebook-container    { width: 80%; }\n",
    "    div#menubar-container     { width: 100%; }\n",
    "    div#maintoolbar-container { width: 100%; }\n",
    "</style>\n",
    "\"\"\"))"
   ]
  },
  {
   "cell_type": "code",
   "execution_count": 4,
   "metadata": {},
   "outputs": [],
   "source": [
    "SEED = 1"
   ]
  },
  {
   "cell_type": "markdown",
   "metadata": {},
   "source": [
    "# Random channels"
   ]
  },
  {
   "cell_type": "code",
   "execution_count": 5,
   "metadata": {},
   "outputs": [],
   "source": [
    "def new_grid(random=False, nb_ch=7, nb_states=5, min_nb=1, max_nb=3, display=False):\n",
    "    \n",
    "    if random == False :\n",
    "        grid = np.array([[1, 1, 1, 1, 0],\n",
    "                         [0, 1, 0, 0, 0],\n",
    "                         [0, 0, 0, 0, 0],\n",
    "                         [0, 1, 0, 0, 0],\n",
    "                         [1, 0, 0, 0, 0],\n",
    "                         [0, 0, 0, 0, 0],\n",
    "                         [0, 0, 0, 1, 1]])\n",
    "    else:\n",
    "        poss_ch = []\n",
    "        nb_good_ch = np.random.randint(min_nb, max_nb)\n",
    "        poss_ch.append(np.sort(np.random.choice(np.arange(nb_ch), size=(nb_good_ch), replace=False)))\n",
    "\n",
    "        for i in range(nb_states-1):\n",
    "            new = 0\n",
    "            while new == 0:\n",
    "                nb_good_ch = np.random.randint(min_nb, max_nb)\n",
    "                new_ch = np.sort(np.random.choice(np.arange(nb_ch), size=(nb_good_ch), replace=False))\n",
    "                for i in range(len(poss_ch)):\n",
    "                    if np.array_equal(poss_ch[i], new_ch):\n",
    "                        new-=1\n",
    "                if new < 0:\n",
    "                    new = 0\n",
    "                else:\n",
    "                    new = 1\n",
    "\n",
    "            poss_ch.append(new_ch)\n",
    "\n",
    "        grid = np.zeros((nb_ch, nb_states))\n",
    "\n",
    "        for i in range(nb_states):\n",
    "            for j in range(poss_ch[i].shape[0]):\n",
    "                grid[poss_ch[i][j], i] = 1\n",
    "                \n",
    "    if display == True:\n",
    "        plt.imshow(grid, cmap='gray', vmin=0, vmax=1)\n",
    "        plt.xticks(np.arange(0, grid.shape[1]))\n",
    "        \n",
    "    return grid.astype(np.float32)\n",
    "    "
   ]
  },
  {
   "cell_type": "markdown",
   "metadata": {},
   "source": [
    "# Online Training - Multi armed bandit"
   ]
  },
  {
   "cell_type": "code",
   "execution_count": 6,
   "metadata": {},
   "outputs": [],
   "source": [
    "# DO NOT LOOK AT THAT CODE\n",
    "class ChooseEnv():\n",
    "    def __init__(self):\n",
    "        self.ch_grid = new_grid()\n",
    "        \n",
    "        self.state = 0\n",
    "        print('This environment has 7 different channels')\n",
    "        \n",
    "    def run(self, choice):\n",
    "        \n",
    "        reward = self.ch_grid[choice, self.state]\n",
    "        \n",
    "        self.state  = (self.state + 1)%5\n",
    "        \n",
    "        return(reward)\n",
    "        "
   ]
  },
  {
   "cell_type": "code",
   "execution_count": 7,
   "metadata": {},
   "outputs": [
    {
     "name": "stdout",
     "output_type": "stream",
     "text": [
      "This environment has 7 different channels\n"
     ]
    }
   ],
   "source": [
    "choose_env = ChooseEnv()"
   ]
  },
  {
   "cell_type": "markdown",
   "metadata": {},
   "source": [
    "## $\\epsilon$-greedy agents"
   ]
  },
  {
   "cell_type": "code",
   "execution_count": 8,
   "metadata": {},
   "outputs": [],
   "source": [
    "class GreedyAgent():\n",
    "    def __init__(self, nb_channels, epsilon):\n",
    "        \n",
    "        self.nb_channels = nb_channels\n",
    "        self.nb_ch_access = np.zeros(shape=(self.nb_channels))\n",
    "        self.q_values = np.zeros(shape=(self.nb_channels))\n",
    "        \n",
    "        self.epsilon = epsilon\n",
    "        self.cumulative_reward = 0\n",
    "    \n",
    "    def choose_action(self):\n",
    "        \n",
    "        # First time ?\n",
    "        if np.all(self.q_values == 0):\n",
    "            self.choice = np.random.randint(low=0, high = self.nb_channels)\n",
    "        \n",
    "        # Explore ?\n",
    "        elif np.random.uniform(size=1) < self.epsilon :\n",
    "            self.choice = np.random.randint(low=0, high = self.nb_channels)\n",
    "        \n",
    "        else:\n",
    "            self.choice = np.argmax(self.q_values)\n",
    "        \n",
    "        return self.choice\n",
    "            \n",
    "    def update_q_value(self, reward):\n",
    "        \n",
    "        self.nb_ch_access[self.choice] += 1\n",
    "        self.q_values[self.choice] += (reward - self.q_values[self.choice])/self.nb_ch_access[self.choice]\n",
    "        self.cumulative_reward += reward\n",
    "        \n",
    "    def get_cum_reward(self):\n",
    "        return self.cumulative_reward\n",
    "    \n",
    "    def get_q_values(self):\n",
    "        return self.q_values"
   ]
  },
  {
   "cell_type": "code",
   "execution_count": 9,
   "metadata": {},
   "outputs": [
    {
     "data": {
      "image/png": "[encoded data removed]",
      "text/plain": [
       "<Figure size 432x288 with 1 Axes>"
      ]
     },
     "metadata": {
      "needs_background": "light"
     },
     "output_type": "display_data"
    }
   ],
   "source": [
    "greedy_results = []\n",
    "\n",
    "len_test = 10000\n",
    "\n",
    "epsilon_range = np.linspace(0, 1, 11)\n",
    "for eps in epsilon_range :\n",
    "    \n",
    "    #np.random.seed(SEED)\n",
    "    agent_g = GreedyAgent(nb_channels = 7, epsilon = eps)\n",
    "\n",
    "    for i in range(len_test):\n",
    "        action = agent_g.choose_action()\n",
    "        reward = choose_env.run(action)\n",
    "        agent_g.update_q_value(reward)\n",
    "    greedy_results.append(agent_g.get_cum_reward())\n",
    "    \n",
    "plt.plot(epsilon_range, greedy_results)\n",
    "plt.ylim(0, len_test)\n",
    "plt.xlabel('Epsilon')\n",
    "plt.ylabel('Cumulative reward after 10.000 time steps');"
   ]
  },
  {
   "cell_type": "code",
   "execution_count": 10,
   "metadata": {},
   "outputs": [
    {
     "name": "stdout",
     "output_type": "stream",
     "text": [
      "Best epsilon = 0.1\n"
     ]
    }
   ],
   "source": [
    "best_epsilon = epsilon_range[np.argmax(greedy_results)]\n",
    "print('Best epsilon = ' + str(best_epsilon))"
   ]
  },
  {
   "cell_type": "code",
   "execution_count": 11,
   "metadata": {},
   "outputs": [
    {
     "data": {
      "image/png": "[encoded data removed]",
      "text/plain": [
       "<Figure size 720x360 with 1 Axes>"
      ]
     },
     "metadata": {
      "needs_background": "light"
     },
     "output_type": "display_data"
    },
    {
     "name": "stdout",
     "output_type": "stream",
     "text": [
      "Q values after 10.000 times steps: \n",
      "[0.  0.  0.  0.2 0.  0.  0. ]\n"
     ]
    },
    {
     "data": {
      "image/png": "[encoded data removed]",
      "text/plain": [
       "<Figure size 720x360 with 1 Axes>"
      ]
     },
     "metadata": {
      "needs_background": "light"
     },
     "output_type": "display_data"
    },
    {
     "name": "stdout",
     "output_type": "stream",
     "text": [
      "Q values after 10.000 times steps: \n",
      "[0.8  0.16 0.   0.14 0.21 0.   0.4 ]\n"
     ]
    },
    {
     "data": {
      "image/png": "[encoded data removed]",
      "text/plain": [
       "<Figure size 720x360 with 1 Axes>"
      ]
     },
     "metadata": {
      "needs_background": "light"
     },
     "output_type": "display_data"
    },
    {
     "name": "stdout",
     "output_type": "stream",
     "text": [
      "Q values after 10.000 times steps: \n",
      "[0.8  0.2  0.   0.2  0.21 0.   0.4 ]\n"
     ]
    }
   ],
   "source": [
    "regret_dic = {}\n",
    "\n",
    "for eps in [0, best_epsilon, 1]:\n",
    "    \n",
    "    regret_dic[str(eps)]=[]\n",
    "    \n",
    "    action_history=[]\n",
    "\n",
    "    np.random.seed(SEED)\n",
    "    agent_g = GreedyAgent(nb_channels = 7, epsilon = eps)\n",
    "\n",
    "    for i in range(len_test):\n",
    "        action = agent_g.choose_action()\n",
    "        reward = choose_env.run(action)\n",
    "        agent_g.update_q_value(reward)\n",
    "        \n",
    "        action_history.append(action)\n",
    "        regret_dic[str(eps)].append(agent_g.get_cum_reward())\n",
    "        \n",
    "    plt.figure(figsize=(10, 5))\n",
    "    plt.title(('Epsilon='+str(eps)))\n",
    "    plt.ylabel('Action taken')\n",
    "    plt.ylim(-0.5, 6.5)\n",
    "    plt.xlabel('Time steps')\n",
    "    plt.scatter(np.arange(len_test), action_history, s=5)\n",
    "    plt.show()\n",
    "    print('Q values after 10.000 times steps: \\n'+np.array2string(agent_g.get_q_values(), precision=2))"
   ]
  },
  {
   "cell_type": "markdown",
   "metadata": {},
   "source": [
    "## Upper Confidence Bound Agent"
   ]
  },
  {
   "cell_type": "code",
   "execution_count": 12,
   "metadata": {},
   "outputs": [],
   "source": [
    "class UCBAgent():\n",
    "    def __init__(self, nb_channels):\n",
    "        \n",
    "        self.nb_channels = nb_channels\n",
    "        self.nb_ch_access = np.zeros(shape=(self.nb_channels))\n",
    "        self.q_values = np.zeros(shape=(self.nb_channels))\n",
    "        \n",
    "        self.ucb = np.zeros(shape=(self.nb_channels))\n",
    "        self.cumulative_reward = 0\n",
    "        self.time_step = 0\n",
    "    \n",
    "    def choose_action(self):\n",
    "        \n",
    "        # First time ?\n",
    "        if self.time_step < self.nb_channels:\n",
    "            self.choice = self.time_step\n",
    "        \n",
    "        else:\n",
    "            self.choice = np.argmax(self.ucb)\n",
    "        \n",
    "        return self.choice\n",
    "            \n",
    "    def update_q_value(self, reward):\n",
    "        \n",
    "        self.time_step += 1 \n",
    "        self.nb_ch_access[self.choice] += 1\n",
    "        self.q_values[self.choice] += (reward - self.q_values[self.choice])/self.nb_ch_access[self.choice]\n",
    "        self.ucb[self.choice] = self.q_values[self.choice] + np.sqrt(2*np.log(self.time_step)/self.nb_ch_access[self.choice])\n",
    "        self.cumulative_reward += reward\n",
    "        \n",
    "    def get_cum_reward(self):\n",
    "        return self.cumulative_reward\n",
    "    \n",
    "    def get_q_values(self):\n",
    "        return self.q_values"
   ]
  },
  {
   "cell_type": "code",
   "execution_count": 13,
   "metadata": {},
   "outputs": [],
   "source": [
    "action_history=[]\n",
    "regret_dic['ucb']=[]\n",
    "\n",
    "np.random.seed(SEED)\n",
    "agent_ucb = UCBAgent(nb_channels = 7)\n",
    "\n",
    "for i in range(len_test):\n",
    "    action = agent_ucb.choose_action()\n",
    "    reward = choose_env.run(action)\n",
    "    agent_ucb.update_q_value(reward)\n",
    "    action_history.append(action)\n",
    "    regret_dic['ucb'].append(agent_ucb.get_cum_reward())"
   ]
  },
  {
   "cell_type": "code",
   "execution_count": 14,
   "metadata": {},
   "outputs": [
    {
     "name": "stdout",
     "output_type": "stream",
     "text": [
      "Q values after 10.000 times steps: \n",
      "[0.8  0.19 0.   0.17 0.24 0.   0.27]\n"
     ]
    },
    {
     "data": {
      "image/png": "[encoded data removed]",
      "text/plain": [
       "<Figure size 720x360 with 1 Axes>"
      ]
     },
     "metadata": {
      "needs_background": "light"
     },
     "output_type": "display_data"
    }
   ],
   "source": [
    "plt.figure(figsize=(10, 5))\n",
    "plt.title(('Epsilon='+str(eps)))\n",
    "plt.ylabel('Action taken')\n",
    "plt.ylim(-0.5, 6.5)\n",
    "plt.xlabel('Time steps')\n",
    "plt.scatter(np.arange(len_test), action_history, s=5)\n",
    "print('Q values after 10.000 times steps: \\n'+np.array2string(agent_ucb.get_q_values(), precision=2))"
   ]
  },
  {
   "cell_type": "code",
   "execution_count": 15,
   "metadata": {},
   "outputs": [
    {
     "data": {
      "image/png": "[encoded data removed]",
      "text/plain": [
       "<Figure size 1080x360 with 2 Axes>"
      ]
     },
     "metadata": {
      "needs_background": "light"
     },
     "output_type": "display_data"
    }
   ],
   "source": [
    "plt.figure(figsize=(15, 5))\n",
    "plt.subplot(1, 2, 1)\n",
    "plt.title('First 100 time steps')\n",
    "plt.xlabel('Time steps')\n",
    "plt.ylabel('cumulative reward')\n",
    "plt.plot(np.arange(100), regret_dic['0'][:100], label='Greedy, epsilon = 0')\n",
    "plt.plot(np.arange(100), regret_dic[str(best_epsilon)][:100], label='Greedy, epsion = best')\n",
    "plt.plot(np.arange(100), regret_dic['1'][:100], label ='Greedy, epsilon = 1')\n",
    "plt.plot(np.arange(100), regret_dic['ucb'][:100], label='UCB')\n",
    "plt.legend()\n",
    "\n",
    "\n",
    "plt.subplot(1, 2, 2)\n",
    "plt.title('First 10.000 time steps')\n",
    "plt.xlabel('Time steps')\n",
    "plt.ylabel('cumulative reward')\n",
    "plt.plot(np.arange(len_test), regret_dic['0'], label='Greedy, epsilon = 0')\n",
    "plt.plot(np.arange(len_test), regret_dic[str(best_epsilon)], label='Greedy, epsion = best')\n",
    "plt.plot(np.arange(len_test), regret_dic['1'], label ='Greedy, epsilon = 1')\n",
    "plt.plot(np.arange(len_test), regret_dic['ucb'], label='UCB')\n",
    "plt.legend();\n"
   ]
  },
  {
   "cell_type": "markdown",
   "metadata": {},
   "source": [
    "# Offline Training"
   ]
  },
  {
   "cell_type": "markdown",
   "metadata": {},
   "source": [
    "## Standard Q-Learning"
   ]
  },
  {
   "cell_type": "code",
   "execution_count": 15,
   "metadata": {},
   "outputs": [],
   "source": [
    "# DO NOT LOOK AT THAT CODE\n",
    "class SenseEnv():\n",
    "    def __init__(self):\n",
    "        \n",
    "        self.ch_grid = np.array([[1, 1, 1, 1, 0],\n",
    "                                 [0, 1, 0, 0, 0],\n",
    "                                 [0, 0, 0, 0, 0],\n",
    "                                 [0, 1, 0, 0, 0],\n",
    "                                 [1, 0, 0, 0, 0],\n",
    "                                 [0, 0, 0, 0, 0],\n",
    "                                 [0, 0, 0, 1, 1]]).astype(np.float32)\n",
    "        self.init_state = [3, 4, 0]\n",
    "        \n",
    "        self.ch_state = self.init_state[1]\n",
    "        self.curr_ch = self.init_state[0]\n",
    "        \n",
    "        print('This environment has 7 different channels')\n",
    "        \n",
    "    def run(self, action):\n",
    "                \n",
    "        self.ch_state  = (self.ch_state + 1)%5\n",
    "        self.curr_ch = (self.curr_ch + action)%7\n",
    "        \n",
    "        reward = self.ch_grid[self.curr_ch, self.ch_state]\n",
    "        \n",
    "        if self.ch_state == 4 :\n",
    "            end = 1\n",
    "        else :\n",
    "            end = 0\n",
    "        \n",
    "        return(reward, [self.curr_ch, self.ch_state, end])\n",
    "    \n",
    "    def get_init_state(self):\n",
    "        return self.init_state\n",
    "    \n",
    "    def initialize(self):\n",
    "        self.ch_state = self.init_state[1]\n",
    "        self.curr_ch = self.init_state[0]"
   ]
  },
  {
   "cell_type": "code",
   "execution_count": 16,
   "metadata": {},
   "outputs": [
    {
     "name": "stdout",
     "output_type": "stream",
     "text": [
      "This environment has 7 different channels\n"
     ]
    }
   ],
   "source": [
    "sense_env = SenseEnv()"
   ]
  },
  {
   "cell_type": "code",
   "execution_count": 17,
   "metadata": {},
   "outputs": [],
   "source": [
    "def evaluate_q_agent(agent, display = False):\n",
    "\n",
    "    action_history=[]\n",
    "    tot_reward = 0\n",
    "    \n",
    "    sense_env.initialize()\n",
    "    first_state = sense_env.get_init_state()\n",
    "    action = agent.choose_action(first_state, epsilon = 0)\n",
    "    action_history.append(action)\n",
    "    reward, new_state = sense_env.run(action)\n",
    "    tot_reward += reward\n",
    "    \n",
    "    while new_state[2]==0:\n",
    "        \n",
    "        action = agent.choose_action(new_state, epsilon = 0)\n",
    "        action_history.append(action)\n",
    "        reward, new_state = sense_env.run(action)\n",
    "        tot_reward += reward\n",
    "    \n",
    "    choosen_channels = [3]\n",
    "    for i in range(len(action_history)):\n",
    "        choosen_channels.append((choosen_channels[i]+action_history[i])%7)\n",
    "    choosen_channels = choosen_channels[1:]\n",
    "\n",
    "    if display == True :\n",
    "        channels = np.array([[1, 1, 1, 1, 0],\n",
    "                             [0, 1, 0, 0, 0],\n",
    "                             [0, 0, 0, 0, 0],\n",
    "                             [0, 1, 0, 0, 0],\n",
    "                             [1, 0, 0, 0, 0],\n",
    "                             [0, 0, 0, 0, 0],\n",
    "                             [0, 0, 0, 1, 1]]).astype(np.float32)\n",
    "        plt.imshow(channels, cmap='gray', vmin=0, vmax=1)\n",
    "        for i in range(len(choosen_channels)):\n",
    "            plt.scatter(i, choosen_channels[i], color='r')\n",
    "        print(str(tot_reward)[0]+'/5 packets have been transmitted')\n",
    "    return tot_reward"
   ]
  },
  {
   "cell_type": "code",
   "execution_count": 18,
   "metadata": {},
   "outputs": [],
   "source": [
    "class QAgent():\n",
    "    def __init__(self, nb_channels, nb_ch_states, learning_rate, gamma):\n",
    "        \n",
    "        self.nb_channels = nb_channels\n",
    "        self.nb_ch_states = nb_ch_states\n",
    "        self.nb_actions = 3\n",
    "        self.learning_rate = learning_rate\n",
    "        self.gamma = gamma\n",
    "        \n",
    "        self.q_values = np.zeros(shape=(self.nb_channels, self.nb_ch_states, self.nb_actions))\n",
    "        \n",
    "        self.state = 0\n",
    "        self.cumulative_reward = 0\n",
    "    \n",
    "    def choose_action(self, state, epsilon):\n",
    "        \n",
    "        self.curr_ch, self.ch_state, self.end = state\n",
    "        \n",
    "        # First time on that state ?\n",
    "        if np.all(self.q_values[tuple([self.curr_ch, self.ch_state])] == 0):\n",
    "            self.action = np.random.randint(low = -1, high = 2)\n",
    "            \n",
    "        # All actions equivalents\n",
    "        elif np.all(self.q_values[tuple([self.curr_ch, self.ch_state])] == self.q_values[tuple([self.curr_ch, self.ch_state])][0]):\n",
    "            self.action = np.random.randint(low = -1, high = 2)\n",
    "            \n",
    "        # Explore ?\n",
    "        elif np.random.uniform(size=1) < epsilon :\n",
    "            \n",
    "            self.action = np.random.randint(low = -1, high = 2)\n",
    "            \n",
    "        else:\n",
    "            self.action = np.argmax(self.q_values[tuple([self.curr_ch, self.ch_state])])-1\n",
    "\n",
    "        return self.action\n",
    "            \n",
    "    def update_q_value(self, reward, new_state):\n",
    "        \n",
    "        n_curr_ch, n_ch_state, n_end = new_state\n",
    "        \n",
    "        q_value_index = [self.curr_ch, self.ch_state, self.action+1]\n",
    "        self.q_values[tuple(q_value_index)] += self.learning_rate \\\n",
    "                        * (reward + (1-n_end) * self.gamma * np.max(self.q_values[tuple([n_curr_ch, n_ch_state])]) - self.q_values[tuple(q_value_index)])\n",
    "        self.cumulative_reward += reward\n",
    "\n",
    "        \n",
    "    def step(self, reward, new_state, epsilon):\n",
    "        \n",
    "        self.update_q_value(reward, new_state)\n",
    "        return self.choose_action(new_state, epsilon)\n",
    "        \n",
    "    def get_cum_reward(self):\n",
    "        return self.cumulative_reward\n",
    "    \n",
    "    def get_q_values(self):\n",
    "        return self.q_values\n",
    "    \n",
    "    def softmax(self, x):\n",
    "        \"\"\"Compute softmax values for each sets of scores in x.\"\"\"\n",
    "        return np.exp(x) / np.sum(np.exp(x), axis=0)"
   ]
  },
  {
   "cell_type": "code",
   "execution_count": 74,
   "metadata": {},
   "outputs": [
    {
     "name": "stdout",
     "output_type": "stream",
     "text": [
      "2/5 packets have been transmitted\n"
     ]
    },
    {
     "data": {
      "text/plain": [
       "2.0"
      ]
     },
     "execution_count": 74,
     "metadata": {},
     "output_type": "execute_result"
    },
    {
     "data": {
      "image/png": "[encoded data removed]",
      "text/plain": [
       "<Figure size 432x288 with 1 Axes>"
      ]
     },
     "metadata": {
      "needs_background": "light"
     },
     "output_type": "display_data"
    }
   ],
   "source": [
    "agent_q = QAgent(nb_channels=7, nb_ch_states=5, learning_rate=0.1, gamma=0)\n",
    "\n",
    "np.random.seed(SEED)\n",
    "nb_trainings = 10000\n",
    "\n",
    "epsilon = 0.75\n",
    "\n",
    "for i in range(nb_trainings):\n",
    "    sense_env.initialize()\n",
    "    first_state = sense_env.get_init_state()\n",
    "    action = agent_q.choose_action(first_state, epsilon)\n",
    "    reward, new_state = sense_env.run(action)\n",
    "    \n",
    "    while new_state[2] == 0:\n",
    "        action = agent_q.step(reward, new_state, epsilon)\n",
    "        reward, new_state = sense_env.run(action)\n",
    "    agent_q.update_q_value(reward, new_state)\n",
    "\n",
    "evaluate_q_agent(agent_q, display=True)"
   ]
  },
  {
   "cell_type": "code",
   "execution_count": 75,
   "metadata": {},
   "outputs": [
    {
     "name": "stdout",
     "output_type": "stream",
     "text": [
      "3/5 packets have been transmitted\n"
     ]
    },
    {
     "data": {
      "text/plain": [
       "3.0"
      ]
     },
     "execution_count": 75,
     "metadata": {},
     "output_type": "execute_result"
    },
    {
     "data": {
      "image/png": "[encoded data removed]",
      "text/plain": [
       "<Figure size 432x288 with 1 Axes>"
      ]
     },
     "metadata": {
      "needs_background": "light"
     },
     "output_type": "display_data"
    }
   ],
   "source": [
    "agent_q = QAgent(nb_channels=7, nb_ch_states=5, learning_rate=0.1, gamma=0.5)\n",
    "\n",
    "np.random.seed(SEED)\n",
    "nb_trainings = 10000\n",
    "\n",
    "epsilon = 0.75\n",
    "\n",
    "for i in range(nb_trainings):\n",
    "    sense_env.initialize()\n",
    "    first_state = sense_env.get_init_state()\n",
    "    action = agent_q.choose_action(first_state, epsilon)\n",
    "    reward, new_state = sense_env.run(action)\n",
    "    \n",
    "    while new_state[2] == 0:\n",
    "        action = agent_q.step(reward, new_state, epsilon)\n",
    "        reward, new_state = sense_env.run(action)\n",
    "    agent_q.update_q_value(reward, new_state)\n",
    "\n",
    "evaluate_q_agent(agent_q, display=True)"
   ]
  },
  {
   "cell_type": "code",
   "execution_count": 76,
   "metadata": {},
   "outputs": [
    {
     "name": "stdout",
     "output_type": "stream",
     "text": [
      "4/5 packets have been transmitted\n"
     ]
    },
    {
     "data": {
      "text/plain": [
       "4.0"
      ]
     },
     "execution_count": 76,
     "metadata": {},
     "output_type": "execute_result"
    },
    {
     "data": {
      "image/png": "[encoded data removed]",
      "text/plain": [
       "<Figure size 432x288 with 1 Axes>"
      ]
     },
     "metadata": {
      "needs_background": "light"
     },
     "output_type": "display_data"
    }
   ],
   "source": [
    "agent_q = QAgent(nb_channels=7, nb_ch_states=5, learning_rate=0.1, gamma=1)\n",
    "\n",
    "np.random.seed(SEED)\n",
    "nb_trainings = 10000\n",
    "\n",
    "epsilon = 0.75\n",
    "\n",
    "for i in range(nb_trainings):\n",
    "    sense_env.initialize()\n",
    "    first_state = sense_env.get_init_state()\n",
    "    action = agent_q.choose_action(first_state, epsilon)\n",
    "    reward, new_state = sense_env.run(action)\n",
    "    \n",
    "    while new_state[2] == 0:\n",
    "        action = agent_q.step(reward, new_state, epsilon)\n",
    "        reward, new_state = sense_env.run(action)\n",
    "    agent_q.update_q_value(reward, new_state)\n",
    "\n",
    "evaluate_q_agent(agent_q, display=True)"
   ]
  },
  {
   "cell_type": "code",
   "execution_count": 77,
   "metadata": {},
   "outputs": [
    {
     "data": {
      "text/plain": [
       "array([[[0.        , 0.        , 2.        , 1.        , 0.        ],\n",
       "        [0.        , 0.        , 2.        , 0.        , 0.        ],\n",
       "        [0.        , 0.        , 0.        , 0.        , 0.        ]],\n",
       "\n",
       "       [[0.        , 3.        , 2.        , 0.        , 0.        ],\n",
       "        [0.        , 2.        , 0.        , 0.        , 0.        ],\n",
       "        [0.        , 0.        , 0.        , 0.        , 0.        ]],\n",
       "\n",
       "       [[4.        , 2.        , 0.        , 0.        , 0.        ],\n",
       "        [2.        , 0.        , 0.        , 0.        , 0.        ],\n",
       "        [2.        , 0.        , 0.        , 0.        , 0.        ]],\n",
       "\n",
       "       [[2.        , 0.        , 0.        , 0.        , 4.        ],\n",
       "        [2.        , 0.        , 0.        , 0.        , 2.        ],\n",
       "        [2.        , 1.        , 0.        , 0.        , 3.        ]],\n",
       "\n",
       "       [[2.        , 0.        , 0.        , 0.        , 0.        ],\n",
       "        [2.        , 1.        , 0.        , 0.        , 0.        ],\n",
       "        [2.        , 2.        , 1.        , 0.        , 0.        ]],\n",
       "\n",
       "       [[0.        , 0.99999997, 0.        , 0.        , 0.        ],\n",
       "        [0.        , 2.        , 1.        , 0.        , 0.        ],\n",
       "        [0.        , 1.99960281, 2.        , 1.        , 0.        ]],\n",
       "\n",
       "       [[0.        , 0.        , 0.97822094, 0.        , 0.        ],\n",
       "        [0.        , 0.        , 1.92089292, 1.        , 0.        ],\n",
       "        [0.        , 0.        , 1.99981182, 0.        , 0.        ]]])"
      ]
     },
     "execution_count": 77,
     "metadata": {},
     "output_type": "execute_result"
    }
   ],
   "source": [
    "np.transpose(agent_q.q_values, [0, 2, 1])"
   ]
  },
  {
   "cell_type": "markdown",
   "metadata": {},
   "source": [
    "# Deep Q-Learning"
   ]
  },
  {
   "cell_type": "code",
   "execution_count": 8,
   "metadata": {},
   "outputs": [],
   "source": [
    "# DO NOT LOOK AT THAT CODE\n",
    "class DQEnv():\n",
    "    def __init__(self, nb_channels = 7, nb_states=5, random=False):\n",
    "        \n",
    "        if (nb_channels+1)%2!=0:\n",
    "            print('/!\\ Please enter an even number of channels')\n",
    "            \n",
    "        self.nb_ch = nb_channels\n",
    "        self.nb_states = nb_states\n",
    "        \n",
    "        self.grid = new_grid(random, self.nb_ch, self.nb_states, 1, int((self.nb_ch+1)/2), display=True)\n",
    "        \n",
    "        self.init_state = [int((self.nb_ch-1)/2), int(self.nb_states-1)]\n",
    "        self.ch_state = self.init_state[1]\n",
    "        self.curr_ch = self.init_state[0]\n",
    "        self.sent_mess = 0\n",
    "        \n",
    "        print('This environment has ' + str(self.nb_ch) +' different channels')\n",
    "        \n",
    "    def run(self, action):\n",
    "        \n",
    "        self.sent_mess += 1\n",
    "        \n",
    "        self.ch_state  = (self.ch_state + 1)%self.nb_states\n",
    "        \n",
    "        self.curr_ch = (self.curr_ch + action)%self.nb_ch\n",
    "        \n",
    "        reward = self.grid[self.curr_ch, self.ch_state]\n",
    "        \n",
    "        if self.sent_mess != self.nb_states: \n",
    "            end = 0\n",
    "        else :\n",
    "            end = 1\n",
    "        \n",
    "        return(reward, [self.one_hot(self.curr_ch, self.nb_ch), self.grid[:, self.ch_state], end])\n",
    "    \n",
    "    def get_init_state(self):\n",
    "        return [self.one_hot(self.init_state[0], self.nb_ch), self.grid[:, self.init_state[1]], 0]\n",
    "    \n",
    "    def initialize(self):\n",
    "        self.ch_state = self.init_state[1]\n",
    "        self.curr_ch = self.init_state[0]\n",
    "        self.sent_mess = 0\n",
    "        \n",
    "    def one_hot(self, index, depth):\n",
    "        oh = np.zeros(depth, dtype=np.float32)\n",
    "        oh[index] = 1\n",
    "        return oh"
   ]
  },
  {
   "cell_type": "code",
   "execution_count": 9,
   "metadata": {},
   "outputs": [
    {
     "name": "stdout",
     "output_type": "stream",
     "text": [
      "This environment has 7 different channels\n"
     ]
    },
    {
     "data": {
      "image/png": "[encoded data removed]",
      "text/plain": [
       "<Figure size 432x288 with 1 Axes>"
      ]
     },
     "metadata": {
      "needs_background": "light"
     },
     "output_type": "display_data"
    }
   ],
   "source": [
    "dq_env = DQEnv(random=False)"
   ]
  },
  {
   "cell_type": "code",
   "execution_count": 10,
   "metadata": {},
   "outputs": [],
   "source": [
    "def evaluate_dq_agent(agent, grid, display = False):\n",
    "\n",
    "    action_history=[]\n",
    "    tot_reward = 0\n",
    "    \n",
    "    dq_env.initialize()\n",
    "    first_state = dq_env.get_init_state()\n",
    "    action = agent.choose_action(first_state, epsilon = 0)\n",
    "    action_history.append(action)\n",
    "    reward, new_state = dq_env.run(action)\n",
    "    tot_reward += reward\n",
    "    \n",
    "    for j in range(grid.shape[1]-1):\n",
    "        state = new_state\n",
    "        action = agent.choose_action(state, epsilon = 0)\n",
    "        action_history.append(action)\n",
    "        reward, new_state = dq_env.run(action)\n",
    "        tot_reward += reward\n",
    "\n",
    "    choosen_channels = [(grid.shape[0]-1)/2]\n",
    "    for i in range(len(action_history)):\n",
    "        choosen_channels.append((choosen_channels[i]+action_history[i])%grid.shape[0])\n",
    "    choosen_channels = choosen_channels[1:]\n",
    "\n",
    "    if display == True :\n",
    "        plt.imshow(grid, cmap='gray', vmin=0, vmax=1)\n",
    "        for i in range(len(choosen_channels)):\n",
    "            plt.scatter(i, choosen_channels[i], color='r')\n",
    "        print(str(tot_reward)[0]+'/'+str(grid.shape[1])+' packets have been transmitted')\n",
    "    return tot_reward"
   ]
  },
  {
   "cell_type": "code",
   "execution_count": 11,
   "metadata": {},
   "outputs": [],
   "source": [
    "class DQAgent():\n",
    "    def __init__(self, nb_channels, learning_rate, gamma):\n",
    "        \n",
    "        self.nb_ch = nb_channels\n",
    "        self.nb_actions = 3\n",
    "        self.gamma = gamma\n",
    "                        \n",
    "        self.DQN_offline = tf.keras.models.Sequential([\n",
    "            Dense(2*self.nb_ch, activation='relu'),\n",
    "            Dense(self.nb_actions, activation='softplus')\n",
    "        ])\n",
    "        self.DQN_offline.build(input_shape=(None, self.nb_ch*2))\n",
    "        \n",
    "        self.DQN_online = tf.keras.models.Sequential([\n",
    "            Dense(2*self.nb_ch, activation='relu'),\n",
    "            Dense(self.nb_actions, activation='softplus')\n",
    "        ])\n",
    "        self.DQN_online.build(input_shape=(None, self.nb_ch*2))\n",
    "        \n",
    "        self.copy_parameters()\n",
    "        \n",
    "        self.loss_func = tf.keras.losses.MSE\n",
    "        self.optimizer = tf.keras.optimizers.Adam(learning_rate)\n",
    "        \n",
    "        self.history_length = 1000\n",
    "        self.history = [[]for i in range(self.history_length)]\n",
    "        self.history_idx = 0\n",
    "        \n",
    "    def choose_action(self, state, epsilon):\n",
    "        \n",
    "        # Explore ?\n",
    "        if np.random.uniform(size=1) < epsilon :\n",
    "            action =  np.random.randint(low = -1, high = 2)\n",
    "        \n",
    "        else:    \n",
    "            curr_ch, ch_state, end = state\n",
    "            DQN_input = tf.concat([curr_ch, ch_state], axis=0)[tf.newaxis, :]\n",
    "            outputs = self.DQN_online(DQN_input).numpy()\n",
    "            action = np.argmax(outputs)-1\n",
    "            \n",
    "        return action\n",
    "    \n",
    "    def learn(self, batch_size):\n",
    "        \n",
    "        idx = np.random.choice(range(self.history_length), batch_size, replace=False)\n",
    "        rdm_exp =  [self.history[i] for i in idx]\n",
    "        batch = [np.stack([rdm_exp[i][j] for i in range(batch_size)], axis=0) for j in range(5)]\n",
    "        \n",
    "        states_flt, actions, rewards, n_states_flt, end = batch\n",
    "        \n",
    "        max_n_q_values = tf.reduce_max(self.DQN_online(n_states_flt), axis=1).numpy()\n",
    "\n",
    "        with tf.GradientTape() as tape:\n",
    "            q_values = self.DQN_online(states_flt)\n",
    "            target = q_values.numpy()\n",
    "            target[np.arange(target.shape[0]), actions+1]= rewards + (1-end) * self.gamma * max_n_q_values\n",
    "            self.loss = self.loss_func(q_values, target)\n",
    "\n",
    "        gradients = tape.gradient(self.loss, self.DQN_online.trainable_weights)\n",
    "        self.optimizer.apply_gradients(zip(gradients, self.DQN_online.trainable_weights))  \n",
    "    \n",
    "    def insert_history(self, state, action, reward, n_state):\n",
    "        \n",
    "        curr_ch, ch_state, end = state\n",
    "        state_flt = np.concatenate([curr_ch, ch_state], axis=0)\n",
    "        \n",
    "        n_curr_ch, n_ch_state, n_end = n_state\n",
    "        n_state_flt = np.concatenate([n_curr_ch, n_ch_state], axis=0)\n",
    "\n",
    "        self.history[self.history_idx] = [state_flt, action, reward, n_state_flt, n_end]\n",
    "        self.history_idx = (self.history_idx+1)%self.history_length\n",
    "    \n",
    "    def copy_parameters(self):\n",
    "    \n",
    "        weights = self.DQN_online.get_weights()\n",
    "        self.DQN_offline.set_weights(weights)\n"
   ]
  },
  {
   "cell_type": "code",
   "execution_count": 12,
   "metadata": {},
   "outputs": [],
   "source": [
    "tf.random.set_seed(SEED)\n",
    "agent_dq = DQAgent(nb_channels=7, learning_rate=0.01, gamma=1)"
   ]
  },
  {
   "cell_type": "code",
   "execution_count": 13,
   "metadata": {},
   "outputs": [],
   "source": [
    "np.random.seed(SEED)\n",
    "\n",
    "epsilon = 1\n",
    "\n",
    "# Build a first history\n",
    "for i in range(200):\n",
    "    dq_env.initialize()\n",
    "    state = dq_env.get_init_state()\n",
    "    action = agent_dq.choose_action(state, epsilon)\n",
    "    reward, new_state = dq_env.run(action)\n",
    "    agent_dq.insert_history(state, action, reward, new_state)\n",
    "    while new_state[2]==0 :\n",
    "        state = new_state\n",
    "        action = agent_dq.choose_action(state, epsilon)\n",
    "        reward, new_state = dq_env.run(action)\n",
    "        agent_dq.insert_history(state, action, reward, new_state)  "
   ]
  },
  {
   "cell_type": "code",
   "execution_count": 14,
   "metadata": {},
   "outputs": [
    {
     "name": "stdout",
     "output_type": "stream",
     "text": [
      "10, 20, 30, 40, 50, 60, 70, 80, 90, 100, "
     ]
    }
   ],
   "source": [
    "np.random.seed(SEED)\n",
    "nb_trainings = 100\n",
    "loss = []    \n",
    "epsilon = 0.75\n",
    "\n",
    "for i in range(nb_trainings):\n",
    "    dq_env.initialize()\n",
    "    state = dq_env.get_init_state()\n",
    "    action = agent_dq.choose_action(state, epsilon)\n",
    "    reward, new_state = dq_env.run(action)\n",
    "    agent_dq.insert_history(state, action, reward, new_state)\n",
    "    agent_dq.learn(10)\n",
    "    \n",
    "    while new_state[2]==0 :\n",
    "        state = new_state\n",
    "        action = agent_dq.choose_action(state, epsilon)\n",
    "        reward, new_state = dq_env.run(action)\n",
    "        agent_dq.insert_history(state, action, reward, new_state) \n",
    "        agent_dq.learn(10)\n",
    "    loss.append(tf.reduce_mean(agent_dq.loss).numpy())\n",
    "    \n",
    "    if (i+1)%10 == 0:\n",
    "        agent_dq.copy_parameters()\n",
    "        print((i+1), end=', ')"
   ]
  },
  {
   "cell_type": "code",
   "execution_count": 255,
   "metadata": {},
   "outputs": [
    {
     "data": {
      "text/plain": [
       "[<matplotlib.lines.Line2D at 0x7fb9304f70f0>]"
      ]
     },
     "execution_count": 255,
     "metadata": {},
     "output_type": "execute_result"
    },
    {
     "data": {
      "image/png": "[encoded data removed]",
      "text/plain": [
       "<Figure size 432x288 with 1 Axes>"
      ]
     },
     "metadata": {
      "needs_background": "light"
     },
     "output_type": "display_data"
    }
   ],
   "source": [
    "plt.semilogy(np.arange(len(loss)), loss)"
   ]
  },
  {
   "cell_type": "code",
   "execution_count": 256,
   "metadata": {},
   "outputs": [
    {
     "name": "stdout",
     "output_type": "stream",
     "text": [
      "3/5 packets have been transmitted\n"
     ]
    },
    {
     "data": {
      "image/png": "[encoded data removed]",
      "text/plain": [
       "<Figure size 432x288 with 1 Axes>"
      ]
     },
     "metadata": {
      "needs_background": "light"
     },
     "output_type": "display_data"
    }
   ],
   "source": [
    "evaluate_dq_agent(agent_dq, dq_env.grid, display=True);"
   ]
  },
  {
   "cell_type": "code",
   "execution_count": 257,
   "metadata": {},
   "outputs": [
    {
     "data": {
      "text/plain": [
       "<tf.Tensor: id=5912035, shape=(1, 3), dtype=float32, numpy=array([[4.146858 , 1.9496604, 3.016513 ]], dtype=float32)>"
      ]
     },
     "execution_count": 257,
     "metadata": {},
     "output_type": "execute_result"
    }
   ],
   "source": [
    "input_ = tf.convert_to_tensor(np.array([[0, 0, 0, 1, 0, 0, 0, 0, 0, 0, 0, 0, 0, 1]]))\n",
    "agent_dq.DQN_online(input_)"
   ]
  },
  {
   "cell_type": "code",
   "execution_count": null,
   "metadata": {},
   "outputs": [],
   "source": []
  },
  {
   "cell_type": "code",
   "execution_count": null,
   "metadata": {},
   "outputs": [],
   "source": []
  },
  {
   "cell_type": "code",
   "execution_count": null,
   "metadata": {},
   "outputs": [],
   "source": []
  },
  {
   "cell_type": "code",
   "execution_count": null,
   "metadata": {},
   "outputs": [],
   "source": []
  },
  {
   "cell_type": "code",
   "execution_count": 272,
   "metadata": {},
   "outputs": [
    {
     "name": "stdout",
     "output_type": "stream",
     "text": [
      "This environment has 9 different channels\n"
     ]
    },
    {
     "data": {
      "image/png": "[encoded data removed]",
      "text/plain": [
       "<Figure size 432x288 with 1 Axes>"
      ]
     },
     "metadata": {
      "needs_background": "light"
     },
     "output_type": "display_data"
    }
   ],
   "source": [
    "dq_env = DQEnv(nb_channels=9, nb_states=15, random=True)"
   ]
  },
  {
   "cell_type": "code",
   "execution_count": 273,
   "metadata": {},
   "outputs": [],
   "source": [
    "tf.random.set_seed(SEED)\n",
    "agent_dq = DQAgent(nb_channels=9, learning_rate=0.01, gamma=1)"
   ]
  },
  {
   "cell_type": "code",
   "execution_count": 274,
   "metadata": {},
   "outputs": [],
   "source": [
    "np.random.seed(SEED)\n",
    "\n",
    "epsilon = 1\n",
    "\n",
    "# Build a first history\n",
    "for i in range(200):\n",
    "    dq_env.initialize()\n",
    "    state = dq_env.get_init_state()\n",
    "    action = agent_dq.choose_action(state, epsilon)\n",
    "    reward, new_state = dq_env.run(action)\n",
    "    agent_dq.insert_history(state, action, reward, new_state)\n",
    "    while new_state[2]==0 :\n",
    "        state = new_state\n",
    "        action = agent_dq.choose_action(state, epsilon)\n",
    "        reward, new_state = dq_env.run(action)\n",
    "        agent_dq.insert_history(state, action, reward, new_state)  "
   ]
  },
  {
   "cell_type": "code",
   "execution_count": 275,
   "metadata": {},
   "outputs": [
    {
     "name": "stdout",
     "output_type": "stream",
     "text": [
      "50, 100, 150, 200, 250, 300, 350, 400, 450, 500, "
     ]
    }
   ],
   "source": [
    "np.random.seed(SEED)\n",
    "nb_trainings = 500\n",
    "loss = []    \n",
    "epsilon = 0.5\n",
    "\n",
    "for i in range(nb_trainings):\n",
    "    dq_env.initialize()\n",
    "    state = dq_env.get_init_state()\n",
    "    action = agent_dq.choose_action(state, epsilon)\n",
    "    reward, new_state = dq_env.run(action)\n",
    "    agent_dq.insert_history(state, action, reward, new_state)\n",
    "    agent_dq.learn(10)\n",
    "    \n",
    "    while new_state[2]==0 :\n",
    "        state = new_state\n",
    "        action = agent_dq.choose_action(state, epsilon)\n",
    "        reward, new_state = dq_env.run(action)\n",
    "        agent_dq.insert_history(state, action, reward, new_state) \n",
    "        agent_dq.learn(10)\n",
    "    loss.append(tf.reduce_mean(agent_dq.loss).numpy())\n",
    "    \n",
    "    if (i+1)%50 == 0:\n",
    "        agent_dq.copy_parameters()\n",
    "        print((i+1), end=', ')"
   ]
  },
  {
   "cell_type": "code",
   "execution_count": 276,
   "metadata": {},
   "outputs": [
    {
     "name": "stdout",
     "output_type": "stream",
     "text": [
      "1/15 packets have been transmitted\n"
     ]
    },
    {
     "data": {
      "image/png": "[encoded data removed]",
      "text/plain": [
       "<Figure size 432x288 with 1 Axes>"
      ]
     },
     "metadata": {
      "needs_background": "light"
     },
     "output_type": "display_data"
    }
   ],
   "source": [
    "evaluate_dq_agent(agent_dq, dq_env.grid, display=True);"
   ]
  },
  {
   "cell_type": "code",
   "execution_count": null,
   "metadata": {},
   "outputs": [],
   "source": []
  }
 ],
 "metadata": {
  "kernelspec": {
   "display_name": "Python 3",
   "language": "python",
   "name": "python3"
  },
  "language_info": {
   "codemirror_mode": {
    "name": "ipython",
    "version": 3
   },
   "file_extension": ".py",
   "mimetype": "text/x-python",
   "name": "python",
   "nbconvert_exporter": "python",
   "pygments_lexer": "ipython3",
   "version": "3.6.8"
  }
 },
 "nbformat": 4,
 "nbformat_minor": 4
}
