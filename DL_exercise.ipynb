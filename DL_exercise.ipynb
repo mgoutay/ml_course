{
 "cells": [
  {
   "cell_type": "markdown",
   "metadata": {},
   "source": [
    "# The Physical Layer as an Autoencoder\n"
   ]
  },
  {
   "cell_type": "markdown",
   "metadata": {},
   "source": [
    "An autoencoder is a type of artificial neural network used to find a useful representation of some data $\\mathbf{s}$ at an intermediate layer $\\mathbf{x}$ through learning to reproduce the input at the output.\n",
    "\n",
    "<img src=\"https://github.com/mgoutay/autoencodeur/blob/master/Images/autoencoder_0.png?raw=true\" alt=\"Drawing\" style=\"width: 400px;\"/>\n"
   ]
  },
  {
   "cell_type": "markdown",
   "metadata": {},
   "source": [
    "# Initialisation"
   ]
  },
  {
   "cell_type": "markdown",
   "metadata": {},
   "source": [
    "**First : change the runtime and hardware acceleration**\n",
    "\n",
    "Runtime $\\rightarrow$ Change runtime type\n",
    "\n",
    "- Runtime type : Python 3\n",
    "- Hardware accelerator : GPU"
   ]
  },
  {
   "cell_type": "code",
   "execution_count": 1,
   "metadata": {},
   "outputs": [],
   "source": [
    "# Install TensorFlow 2.0 on Google Collab if needed\n",
    "try:\n",
    "  # %tensorflow_version only exists in Colab.\n",
    "  %tensorflow_version 2.x\n",
    "except Exception:\n",
    "    pass"
   ]
  },
  {
   "cell_type": "code",
   "execution_count": 2,
   "metadata": {},
   "outputs": [
    {
     "name": "stdout",
     "output_type": "stream",
     "text": [
      "Tensorflow version:  2.1.0\n",
      "Number of GPUs available : 4\n",
      "Only GPU number 0 used\n"
     ]
    }
   ],
   "source": [
    "#Set the GPU you want to use\n",
    "num_GPU = 0\n",
    "\n",
    "import tensorflow as tf\n",
    "print('Tensorflow version: ', tf.__version__)\n",
    "\n",
    "gpus = tf.config.experimental.list_physical_devices(\"GPU\")\n",
    "print('Number of GPUs available :', len(gpus))\n",
    "\n",
    "if num_GPU < len(gpus):\n",
    "    tf.config.experimental.set_visible_devices(gpus[num_GPU], 'GPU')\n",
    "    tf.config.experimental.set_memory_growth(gpus[num_GPU], True)\n",
    "    print('Only GPU number', num_GPU, 'used')"
   ]
  },
  {
   "cell_type": "code",
   "execution_count": 3,
   "metadata": {},
   "outputs": [],
   "source": [
    "import numpy as np\n",
    "import matplotlib.pyplot as plt  \n",
    "\n",
    "\n",
    "# --> Import Model, Layer, Dense, Softmax"
   ]
  },
  {
   "cell_type": "code",
   "execution_count": 4,
   "metadata": {},
   "outputs": [],
   "source": [
    "SEED = 1"
   ]
  },
  {
   "cell_type": "markdown",
   "metadata": {},
   "source": [
    "# Modulation"
   ]
  },
  {
   "cell_type": "markdown",
   "metadata": {},
   "source": [
    "Remember modulation : the goal is to find a good set of symbols to send over a channel.\n",
    "\n",
    "If we want to send 3 bits, we need to have **8 symbols** :  \n",
    "![Modulation](https://github.com/mgoutay/ml_course/blob/master/Images/AWGN.png?raw=true)\n",
    "\n",
    "The constellation (here 8-PSK) needs to be robust to the channel (here AWGN channel).\n",
    "\n",
    "What we want is to find a better constellation !"
   ]
  },
  {
   "cell_type": "markdown",
   "metadata": {},
   "source": [
    "# Communicating messages"
   ]
  },
  {
   "cell_type": "markdown",
   "metadata": {},
   "source": [
    "**An autoencoder-based communication systems aims to implement the transmitter, channel, and receiver as a single NN which reconstructs its input at its output**\n",
    "\n",
    "The goal is to learn a modulation wich will be robust with respect to the perturbations introduced by the channel.\n",
    "\n",
    "The channel is implemented as a \"Noise Layer\" without any learnable parameters, wich must be differentiable in order to perform SGD on the transmitter's parameters.\n",
    "\n",
    "Examples:\n",
    "\n",
    "- AWGN channel : $y = x + n$\n",
    "\n",
    "- ..."
   ]
  },
  {
   "cell_type": "markdown",
   "metadata": {},
   "source": [
    "![autoencoder](https://github.com/mgoutay/autoencodeur/blob/master/Images/autoencoder.png?raw=true)"
   ]
  },
  {
   "cell_type": "markdown",
   "metadata": {},
   "source": [
    "Let's transmit messages.\n",
    "\n",
    "The first hyper-parameter to set is the total number of symbols (or message) $M$.\n",
    "In our simple problem, the number of channel uses $N_c$ is set to 1.\n",
    "\n",
    "It can be seen that $M$ can also be seen as the modulation order. Indeed, sending one out of $M$ symbols (message) is equivalent to sending $\\log_2(M)$ bits."
   ]
  },
  {
   "cell_type": "markdown",
   "metadata": {},
   "source": [
    "We will implement the fowllowing network:\n",
    "\n",
    "\n",
    "<img src=\"https://github.com/mgoutay/ml_course/blob/master/Images/autoencoder.png?raw=true\" alt=\"Drawing\" style=\"width: 700px;\"/>"
   ]
  },
  {
   "cell_type": "markdown",
   "metadata": {},
   "source": [
    "1. Each message $m$ is first converted to its one_hot representation. If we have the 3rd out of 8 message, the one_hot representation will be $[0, 0, 1, 0, 0, 0, 0, 0]$\n",
    "2. That one_hot vector is then given to the first dense layer.\n",
    "3. The last dense layer of the tranmsitter will output $2$ real numbers per symbol. \n",
    "4. They will be normalized to have an average energy of $1$ by the normalization layer. \n",
    "5. Then the $\\mathbb{R}2\\mathbb{C}$ layer will convert those $2$ numbers onto 1 complex number, that will be sent over the channel. Those are the transmitted symbols $x$.\n",
    "6. The channel will add some random gaussian noise (AWGN channel)\n",
    "7. The $\\mathbb{C}2\\mathbb{R}$ layer converts the complex number into $2$ real numbers, that are given to the first dense layer. This is mandatory since Tensorflow does not have complex dense layers. The last dense layer has $M$ output (the number of different symbols).\n",
    "8. The output of the last dense layer is given to the softmax layer. For a given received $y$, it outputs probabilities $\\mathbf{p}_m = [p(m=0|y), p(m=1|y), ..., p(m=M|y)]$ that each symbols have been sent. Those probabilities are useful during training.\n",
    "\n",
    "\n",
    "* Indeed, this is a typical classification task. We want to predict in which \"class\" (which symbol) the received signal $y$ belongs to. The usual loss for classification task is the categorical cross-entropy, which \"compare\" the true class ($m$) with the predicted probabilities $p_m$.\n",
    "\n",
    "\n",
    "9. We take the symbol with the highest probability to have been sent with the $\\text{argmax}$ layer. This is $\\hat{m}$.\n",
    "\n"
   ]
  },
  {
   "cell_type": "markdown",
   "metadata": {},
   "source": [
    "## Define the layers"
   ]
  },
  {
   "cell_type": "code",
   "execution_count": 5,
   "metadata": {},
   "outputs": [],
   "source": [
    "class Normalization(Layer):\n",
    "\n",
    "    def __init__(self, **kwargs):\n",
    "        super(Normalization, self).__init__(**kwargs)\n",
    "\n",
    "    def call(self, symbols):        \n",
    "        # Normalize power per symbol to 1\n",
    "        en_moy = tf.sqrt(2 * tf.reduce_mean(tf.square(symbols)))\n",
    "        symbols_norm = tf.divide(symbols, en_moy)\n",
    "        \n",
    "        return symbols_norm"
   ]
  },
  {
   "cell_type": "code",
   "execution_count": 6,
   "metadata": {},
   "outputs": [],
   "source": [
    "class R2C(Layer):\n",
    "\n",
    "    def __init__(self, **kwargs):\n",
    "        super(R2C, self).__init__(**kwargs)\n",
    "\n",
    "    def call(self, x):\n",
    "        # Converts 2Nc real numbers into Nc complex numbers\n",
    "        x_cplx = tf.complex(x[:, :1], x[:, 1:])\n",
    "            \n",
    "        return x_cplx"
   ]
  },
  {
   "cell_type": "code",
   "execution_count": 7,
   "metadata": {},
   "outputs": [],
   "source": [
    "class C2R(Layer):\n",
    "\n",
    "    def __init__(self, **kwargs):\n",
    "        super(C2R, self).__init__(**kwargs)\n",
    "\n",
    "    def call(self, y):\n",
    "        #converts Nc complex numbers into 2Nc real numbers\n",
    "        y_real = tf.concat([tf.math.real(y), tf.math.imag(y)], axis=1)\n",
    "            \n",
    "        return y_real"
   ]
  },
  {
   "cell_type": "code",
   "execution_count": 8,
   "metadata": {},
   "outputs": [],
   "source": [
    "class OneHot(Layer):\n",
    "\n",
    "    def __init__(self, M, **kwargs):\n",
    "        super(OneHot, self).__init__(**kwargs)\n",
    "        self.M = M\n",
    "\n",
    "    def call(self, msg):\n",
    "        \n",
    "        one_hot_msg = tf.one_hot(msg, depth = M)\n",
    "        \n",
    "        return one_hot_msg"
   ]
  },
  {
   "cell_type": "code",
   "execution_count": 9,
   "metadata": {},
   "outputs": [],
   "source": [
    "class Channel(Layer):\n",
    "\n",
    "    def __init__(self, **kwargs):\n",
    "        super(Channel, self).__init__(**kwargs)\n",
    "            \n",
    "    def call(self, x, snr):\n",
    "        # Adds random Gaussian noise to the input\n",
    "        noise_stddev = tf.sqrt( 2 / tf.pow(10., snr/10.0))\n",
    "        noise_r = tf.random.normal(shape = tf.shape(x), stddev = 1) * noise_stddev/tf.sqrt(2.)\n",
    "        noise_i = tf.random.normal(shape = tf.shape(x), stddev = 1) * noise_stddev/tf.sqrt(2.)\n",
    "        noise_cplx = tf.complex(noise_r, noise_i, name=\"noise\")\n",
    "\n",
    "        y = x + noise_cplx\n",
    "\n",
    "        return y"
   ]
  },
  {
   "cell_type": "markdown",
   "metadata": {},
   "source": [
    "## Generate messages"
   ]
  },
  {
   "cell_type": "code",
   "execution_count": 10,
   "metadata": {},
   "outputs": [],
   "source": [
    "def generate_ds_msg(epoch_len, batch_size, M):\n",
    "    \n",
    "    #Generate a dataset of 'epoch_len' batches of messages.\n",
    "    #Each batch have a size 'batch_size' and consists of messages (symbols) betwen 0 and M-1\n",
    "    rand_msg = tf.random.uniform(shape=[epoch_len, batch_size], minval=0, maxval=M, dtype=tf.int32)\n",
    "    features_ds = tf.data.Dataset.from_tensor_slices(rand_msg)\n",
    "    \n",
    "    #The labels are the same as the features : this is an autoencoder, we want to predict the same message that has been sent.\n",
    "    labels_ds = features_ds\n",
    "    \n",
    "    return (features_ds, labels_ds)"
   ]
  },
  {
   "cell_type": "markdown",
   "metadata": {},
   "source": [
    "## Define the model"
   ]
  },
  {
   "cell_type": "code",
   "execution_count": 11,
   "metadata": {},
   "outputs": [],
   "source": [
    "class Autoencoder(Model):\n",
    "\n",
    "    def __init__(self, M, **kwargs):\n",
    "        super(Autoencoder, self).__init__(**kwargs)\n",
    "        \n",
    "        #Set the class' attributes\n",
    "        self.M = M\n",
    "\n",
    "        # --> Initialise the transmitter layers\n",
    "                \n",
    "        self.ch = Channel()\n",
    "        \n",
    "        # --> Initialise the receiver layers\n",
    "\n",
    "    \n",
    "    def call(self, inputs, snr):\n",
    "        \n",
    "        # Transmitter\n",
    "        # --> Forward pass in the transmitter\n",
    "        # Remember : the last Dense layer should have 2 neurons (real and imaginary part of the symbol)\n",
    "    \n",
    "        #Channel\n",
    "        self.y = self.ch(self.x, snr)\n",
    "        \n",
    "        #Receiver\n",
    "        # --> Forward pass in the receiver\n",
    "        # Remember : the last Dense layer should have M neurons (one for each \"categor\")\n",
    "    \n",
    "        return # --> return the result"
   ]
  },
  {
   "cell_type": "markdown",
   "metadata": {},
   "source": [
    "## What about the loss function?\n",
    "\n",
    "The loss function is the **sparse** (there is only one good class) **categorical cross-entropy**:"
   ]
  },
  {
   "cell_type": "code",
   "execution_count": 12,
   "metadata": {},
   "outputs": [],
   "source": [
    "loss_func = # --> Define the loss function"
   ]
  },
  {
   "cell_type": "markdown",
   "metadata": {},
   "source": [
    "## Instantiate the autoencoder"
   ]
  },
  {
   "cell_type": "code",
   "execution_count": 13,
   "metadata": {},
   "outputs": [],
   "source": [
    "# Number of messages\n",
    "M = 8"
   ]
  },
  {
   "cell_type": "code",
   "execution_count": 14,
   "metadata": {},
   "outputs": [],
   "source": [
    "#Set the seeds\n",
    "np.random.seed(SEED)\n",
    "tf.random.set_seed(SEED)\n",
    "\n",
    "#Create the autoencoder\n",
    "autoencoder = Autoencoder(M)"
   ]
  },
  {
   "cell_type": "markdown",
   "metadata": {},
   "source": [
    "# See constellation before training"
   ]
  },
  {
   "cell_type": "code",
   "execution_count": 15,
   "metadata": {},
   "outputs": [
    {
     "data": {
      "image/png": "[encoded data removed]",
      "text/plain": [
       "<Figure size 324x288 with 1 Axes>"
      ]
     },
     "metadata": {
      "needs_background": "light"
     },
     "output_type": "display_data"
    }
   ],
   "source": [
    "snr_eval = 10\n",
    "\n",
    "# Form a batch containing every message\n",
    "batch_msg = tf.cast(tf.linspace(0., M-1, M), tf.int32)\n",
    "\n",
    "p_b = autoencoder(batch_msg, snr_eval)\n",
    "\n",
    "msg_np = batch_msg.numpy()\n",
    "x_np = autoencoder.x.numpy()\n",
    "\n",
    "plt.figure(figsize=(4.5, 4))\n",
    "plt.scatter(np.real(x_np[:, 0]), np.imag(x_np[:, 0]))\n",
    "for i in range(np.shape(x_np)[0]) :\n",
    "    plt.text(np.real(x_np[i, 0]), np.imag(x_np[i, 0]), str(msg_np[i]), fontsize=18)"
   ]
  },
  {
   "cell_type": "markdown",
   "metadata": {},
   "source": [
    "# Train"
   ]
  },
  {
   "cell_type": "code",
   "execution_count": 16,
   "metadata": {},
   "outputs": [
    {
     "name": "stdout",
     "output_type": "stream",
     "text": [
      "Symbol Error Rate after each epoch:\n",
      "0.2302, 0.0468, 0.014, 0.01, 0.0111, 0.0109, 0.0107, 0.011, 0.0105, 0.009, 0.0102, 0.0094, 0.0102, 0.0091, 0.0107, 0.0111, 0.0097, 0.0098, 0.0112, 0.0094, 0.009, 0.0113, 0.0097, 0.0106, 0.009, Done\n"
     ]
    }
   ],
   "source": [
    "batch_size = 10000\n",
    "epoch_size = 100\n",
    "nb_epoch = 25\n",
    "snr_training = 15\n",
    "\n",
    "print('Symbol Error Rate after each epoch:')\n",
    "\n",
    "#Initialize optimizer\n",
    "optimizer = tf.keras.optimizers.Adam()\n",
    "\n",
    "for epoch in range(nb_epoch):\n",
    "    \n",
    "    # Create a random dataset for each epoch\n",
    "    dataset = tf.data.Dataset.zip(generate_ds_msg(epoch_size, batch_size, M))\n",
    "\n",
    "    # Iterate over the batches of the dataset.\n",
    "    for step, (features, labels) in enumerate(dataset):\n",
    "        # Open a GradientTape.\n",
    "        with tf.GradientTape() as tape:\n",
    "\n",
    "            # Forward pass.\n",
    "            probas =  # --> Do a forward pass, giving the features and the snr_training\n",
    "\n",
    "            # Loss value for this batch.\n",
    "            loss_value =  # --> Compute the loss\n",
    "\n",
    "        # Get gradients of loss wrt the weights.\n",
    "        gradients =  # --> Compute gradients\n",
    "\n",
    "        # Update the weights of our linear layer.\n",
    "        # --> Update the weights\n",
    "    \n",
    "    #Take the argmax of the probability distribution as the estimated message\n",
    "    m_hat = tf.argmax(probas, axis=1, output_type=tf.int32)\n",
    "    \n",
    "    ser = tf.reduce_sum(tf.clip_by_value(tf.abs(labels-m_hat), 0, 1))/(batch_size)\n",
    "    print(ser.numpy(), end=', ')\n",
    "print('Done')"
   ]
  },
  {
   "cell_type": "markdown",
   "metadata": {},
   "source": [
    "## Evaluate the model"
   ]
  },
  {
   "cell_type": "code",
   "execution_count": 21,
   "metadata": {},
   "outputs": [
    {
     "name": "stdout",
     "output_type": "stream",
     "text": [
      "-5, -4, -3, -2, -1, 0, 1, 2, 3, 4, 5, 6, 7, 8, 9, 10, 11, 12, 13, 14, 15, 16, 17, 18, 19, 20, "
     ]
    }
   ],
   "source": [
    "snr_range = np.arange(-5, 21)\n",
    "results=[]\n",
    "bs_eval = 100000\n",
    "\n",
    "for snr_eval in snr_range:\n",
    "    \n",
    "    batch_msg = tf.random.uniform(shape=[bs_eval], minval=0, maxval=M, dtype=tf.int32)\n",
    "    \n",
    "    p_m = autoencoder(batch_msg, snr_eval)\n",
    "    m_hat = tf.argmax(p_m, axis=1, output_type=tf.int32)\n",
    "    \n",
    "    ser = tf.reduce_sum(tf.clip_by_value(tf.abs(batch_msg-m_hat), 0, 1))/(bs_eval)\n",
    "    print(snr_eval, end=', ')\n",
    "    results.append(ser.numpy())"
   ]
  },
  {
   "cell_type": "code",
   "execution_count": 22,
   "metadata": {},
   "outputs": [],
   "source": [
    "PSK8 = np.array([0.77506, 0.765, 0.74813, 0.7275, 0.70289, 0.68373, 0.65119, 0.62056, 0.58119, 0.54035, 0.49605, 0.44836, 0.39359, 0.34086, 0.28307, 0.22817, 0.17711, 0.12972, 0.09176, 0.05412, 0.03235, 0.01594, 0.0068, 0.00256, 0.00071, 0.00015])"
   ]
  },
  {
   "cell_type": "code",
   "execution_count": 23,
   "metadata": {},
   "outputs": [
    {
     "data": {
      "image/png": "[encoded data removed]",
      "text/plain": [
       "<Figure size 576x360 with 1 Axes>"
      ]
     },
     "metadata": {
      "needs_background": "light"
     },
     "output_type": "display_data"
    }
   ],
   "source": [
    "plt.figure(figsize=(8, 5))\n",
    "plt.semilogy(snr_range, PSK8, label='8-PSK')\n",
    "plt.semilogy(snr_range, results, label='Autoencoder')\n",
    "plt.legend()\n",
    "plt.xlabel('SNR(dB)')\n",
    "plt.ylabel('Symbol Eror Rate');\n",
    "plt.ylim(1e-4, 1)\n",
    "plt.grid(which='major', alpha=0.5)\n",
    "plt.grid(which='minor', alpha=0.25)"
   ]
  },
  {
   "cell_type": "markdown",
   "metadata": {},
   "source": [
    "## See learned constellation"
   ]
  },
  {
   "cell_type": "code",
   "execution_count": 24,
   "metadata": {},
   "outputs": [
    {
     "data": {
      "image/png": "[encoded data removed]",
      "text/plain": [
       "<Figure size 324x288 with 1 Axes>"
      ]
     },
     "metadata": {
      "needs_background": "light"
     },
     "output_type": "display_data"
    }
   ],
   "source": [
    "snr_eval = 10\n",
    "\n",
    "# Form a batch containing every message\n",
    "batch_msg = tf.cast(tf.linspace(0., M-1, M), tf.int32)\n",
    "\n",
    "p_b = autoencoder(batch_msg, snr_eval)\n",
    "\n",
    "msg_np = batch_msg.numpy()\n",
    "x_np = autoencoder.x.numpy()\n",
    "\n",
    "plt.figure(figsize=(4.5, 4))\n",
    "plt.scatter(np.real(x_np[:, 0]), np.imag(x_np[:, 0]))\n",
    "for i in range(np.shape(x_np)[0]) :\n",
    "    plt.text(np.real(x_np[i, 0]), np.imag(x_np[i, 0]), str(msg_np[i]), fontsize=18)"
   ]
  },
  {
   "cell_type": "code",
   "execution_count": null,
   "metadata": {},
   "outputs": [],
   "source": []
  }
 ],
 "metadata": {
  "kernelspec": {
   "display_name": "Python 3",
   "language": "python",
   "name": "python3"
  },
  "language_info": {
   "codemirror_mode": {
    "name": "ipython",
    "version": 3
   },
   "file_extension": ".py",
   "mimetype": "text/x-python",
   "name": "python",
   "nbconvert_exporter": "python",
   "pygments_lexer": "ipython3",
   "version": "3.6.9"
  }
 },
 "nbformat": 4,
 "nbformat_minor": 4
}
