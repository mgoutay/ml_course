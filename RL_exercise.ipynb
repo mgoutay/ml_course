{
 "cells": [
  {
   "cell_type": "markdown",
   "metadata": {},
   "source": [
    "# Introduction"
   ]
  },
  {
   "cell_type": "markdown",
   "metadata": {},
   "source": [
    "Those exercises will deal with the **Multiple Access Channel**\n",
    "\n",
    "They will be splitted in three parts:\n",
    "\n",
    "1. Basic Reinforcement Learning\n",
    "2. Reinforcement Learning with Q-Learning\n",
    "3. Deep Reinforcement Learning with a Deep Q-Network\n",
    "\n",
    "In each part, the goal will be to **find the best channel out of 7 possible channels**."
   ]
  },
  {
   "cell_type": "markdown",
   "metadata": {},
   "source": [
    "# Initialization\n",
    "\n",
    "Import and initialize everyting that is needed"
   ]
  },
  {
   "cell_type": "markdown",
   "metadata": {},
   "source": [
    "**First : change the runtime and hardware acceleration**\n",
    "\n",
    "Runtime $\\rightarrow$ Change runtime type\n",
    "\n",
    "- Runtime type : Python 3\n",
    "- Hardware accelerator : GPU"
   ]
  },
  {
   "cell_type": "code",
   "execution_count": 1,
   "metadata": {},
   "outputs": [],
   "source": [
    "# Install TensorFlow 2.0 on Google Collab if needed\n",
    "try:\n",
    "  # %tensorflow_version only exists in Colab.\n",
    "  %tensorflow_version 2.x\n",
    "except Exception:\n",
    "    pass"
   ]
  },
  {
   "cell_type": "markdown",
   "metadata": {},
   "source": [
    "If you selected the GPU hardware acceleration, you should at least see one GPU available :"
   ]
  },
  {
   "cell_type": "code",
   "execution_count": 2,
   "metadata": {},
   "outputs": [
    {
     "name": "stdout",
     "output_type": "stream",
     "text": [
      "Tensorflow version:  2.1.0\n",
      "Number of GPUs available : 4\n",
      "Only GPU number 0 used\n"
     ]
    }
   ],
   "source": [
    "#Set the GPU you want to use\n",
    "num_GPU = 0\n",
    "\n",
    "import tensorflow as tf\n",
    "from tensorflow.keras.layers import Dense\n",
    "\n",
    "print('Tensorflow version: ', tf.__version__)\n",
    "\n",
    "gpus = tf.config.experimental.list_physical_devices(\"GPU\")\n",
    "print('Number of GPUs available :', len(gpus))\n",
    "\n",
    "if num_GPU < len(gpus):\n",
    "    tf.config.experimental.set_visible_devices(gpus[num_GPU], 'GPU')\n",
    "    tf.config.experimental.set_memory_growth(gpus[num_GPU], True)\n",
    "    print('Only GPU number', num_GPU, 'used')"
   ]
  },
  {
   "cell_type": "code",
   "execution_count": 3,
   "metadata": {},
   "outputs": [],
   "source": [
    "import os\n",
    "import copy\n",
    "import sys\n",
    "\n",
    "import numpy as np\n",
    "import matplotlib\n",
    "import matplotlib.pyplot as plt  "
   ]
  },
  {
   "cell_type": "code",
   "execution_count": 4,
   "metadata": {},
   "outputs": [
    {
     "data": {
      "text/html": [
       "\n",
       "<style>\n",
       "    div#notebook-container    { width: 80%; }\n",
       "    div#menubar-container     { width: 100%; }\n",
       "    div#maintoolbar-container { width: 100%; }\n",
       "</style>\n"
      ],
      "text/plain": [
       "<IPython.core.display.HTML object>"
      ]
     },
     "metadata": {},
     "output_type": "display_data"
    }
   ],
   "source": [
    "# Configure the view in Jupyter Notebook\n",
    "from IPython.display import display, HTML\n",
    "\n",
    "display(HTML(data=\"\"\"\n",
    "<style>\n",
    "    div#notebook-container    { width: 80%; }\n",
    "    div#menubar-container     { width: 100%; }\n",
    "    div#maintoolbar-container { width: 100%; }\n",
    "</style>\n",
    "\"\"\"))"
   ]
  },
  {
   "cell_type": "code",
   "execution_count": 5,
   "metadata": {},
   "outputs": [],
   "source": [
    "SEED = 1"
   ]
  },
  {
   "cell_type": "markdown",
   "metadata": {},
   "source": [
    "# Create environment variables"
   ]
  },
  {
   "cell_type": "markdown",
   "metadata": {},
   "source": [
    "**You should not look at the cell below. It describes the network we want to transmit in.**\n",
    "\n",
    "**Don't touch it !**"
   ]
  },
  {
   "cell_type": "code",
   "execution_count": 6,
   "metadata": {},
   "outputs": [],
   "source": [
    "def new_grid(random=False, nb_ch=7, nb_states=5, min_nb=1, max_nb=3, display=False):\n",
    "    \n",
    "    if random == False :\n",
    "        grid = np.array([[1, 1, 1, 1, 0],\n",
    "                         [0, 1, 0, 0, 0],\n",
    "                         [0, 0, 0, 0, 0],\n",
    "                         [0, 1, 0, 0, 0],\n",
    "                         [1, 0, 0, 0, 0],\n",
    "                         [0, 0, 0, 0, 0],\n",
    "                         [0, 0, 0, 1, 1]])\n",
    "    else:\n",
    "        poss_ch = []\n",
    "        nb_good_ch = np.random.randint(min_nb, max_nb)\n",
    "        poss_ch.append(np.sort(np.random.choice(np.arange(nb_ch), size=(nb_good_ch), replace=False)))\n",
    "\n",
    "        for i in range(nb_states-1):\n",
    "            new = 0\n",
    "            while new == 0:\n",
    "                nb_good_ch = np.random.randint(min_nb, max_nb)\n",
    "                new_ch = np.sort(np.random.choice(np.arange(nb_ch), size=(nb_good_ch), replace=False))\n",
    "                for i in range(len(poss_ch)):\n",
    "                    if np.array_equal(poss_ch[i], new_ch):\n",
    "                        new-=1\n",
    "                if new < 0:\n",
    "                    new = 0\n",
    "                else:\n",
    "                    new = 1\n",
    "\n",
    "            poss_ch.append(new_ch)\n",
    "\n",
    "        grid = np.zeros((nb_ch, nb_states))\n",
    "\n",
    "        for i in range(nb_states):\n",
    "            for j in range(poss_ch[i].shape[0]):\n",
    "                grid[poss_ch[i][j], i] = 1\n",
    "                \n",
    "    if display == True:\n",
    "        plt.figure()\n",
    "        plt.imshow(np.flip(grid, axis=0), cmap='gray',  origin=\"lower\", vmin=0, vmax=1)#, extent=[0, grid.shape[1], 0, grid.shape[0]])\n",
    "        \n",
    "    return grid.astype(np.float32)\n",
    "    "
   ]
  },
  {
   "cell_type": "markdown",
   "metadata": {},
   "source": [
    "# 1. Online Training - Multi armed bandit"
   ]
  },
  {
   "cell_type": "markdown",
   "metadata": {},
   "source": [
    "**Don't look at the code below. It's the code of the environment.**"
   ]
  },
  {
   "cell_type": "code",
   "execution_count": 7,
   "metadata": {},
   "outputs": [],
   "source": [
    "# DO NOT LOOK AT THAT CODE\n",
    "class ChooseEnv():\n",
    "    def __init__(self):\n",
    "        self.ch_grid = new_grid()\n",
    "        \n",
    "        self.state = 0\n",
    "        print('This environment has 7 different channels')\n",
    "        \n",
    "    def run(self, choice):\n",
    "        \n",
    "        reward = self.ch_grid[choice, self.state]\n",
    "        \n",
    "        self.state  = (self.state + 1)%5\n",
    "        \n",
    "        return(reward)\n",
    "        "
   ]
  },
  {
   "cell_type": "markdown",
   "metadata": {},
   "source": [
    "### Problem formulation:\n",
    "- You have a Wi-Fi network with 7 different channels\n",
    "- You need to transmit 10.000 packets\n",
    "\n",
    "--> Which channel do you choose?\n",
    "\n",
    "### Framework:\n",
    "- For each attempt, you choose a channel (action)\n",
    "- If the packet was sent, you got a reward  : 1\n",
    "- If there was a collision, you got no reward  : 0\n",
    "\n",
    "**GOAL : Online training $\\rightarrow$ Find the best action to maximize the total number of transmitted packets (received rewards)**"
   ]
  },
  {
   "cell_type": "markdown",
   "metadata": {},
   "source": [
    "First, we need to instantiate an environment, that we call `choose_env` :"
   ]
  },
  {
   "cell_type": "code",
   "execution_count": 8,
   "metadata": {
    "scrolled": true
   },
   "outputs": [
    {
     "name": "stdout",
     "output_type": "stream",
     "text": [
      "This environment has 7 different channels\n"
     ]
    }
   ],
   "source": [
    "choose_env = ChooseEnv()"
   ]
  },
  {
   "cell_type": "markdown",
   "metadata": {},
   "source": [
    "This environment takes as input the action (chosen channel) and outputs a reward\n",
    "\n",
    "The action needs to be an integers between 0 and 6\n",
    "\n",
    "To call the environment, just use `reward = choose_env.run(action)`"
   ]
  },
  {
   "cell_type": "markdown",
   "metadata": {},
   "source": [
    "## $\\epsilon$-greedy agents"
   ]
  },
  {
   "cell_type": "markdown",
   "metadata": {},
   "source": [
    "It's time to build our $\\epsilon$-greedy agent\n",
    "\n",
    "It needs to keep track of :\n",
    "- The number of channels availables (7 here)\n",
    "- Its $\\epsilon$-value \n",
    "- The number of times it accessed each channels $N_t(a)$\n",
    "- The estimated q_values for each channels\n",
    "- The cumulative reward (optional)\n",
    "\n",
    "The q_values are stored in a array and initialized at zeros : $[q_0, q_1, ..., q_6]$ (7 channels)\n",
    "\n",
    "Same for the number of channel access"
   ]
  },
  {
   "cell_type": "code",
   "execution_count": 9,
   "metadata": {},
   "outputs": [],
   "source": [
    "class GreedyAgent():\n",
    "    def __init__(self, nb_channels, epsilon):\n",
    "        \n",
    "        self.nb_channels = nb_channels\n",
    "        self.epsilon = epsilon\n",
    "        \n",
    "        self.nb_ch_access = np.zeros(shape=(self.nb_channels))\n",
    "        self.sum_rewards = np.zeros(shape=(self.nb_channels))\n",
    "        self.q_values = np.zeros(shape=(self.nb_channels))\n",
    "        \n",
    "        \n",
    "        self.cumulative_reward = 0\n",
    "    \n",
    "    def choose_action(self):\n",
    "        # First time ?\n",
    "        if np.all(self.q_values == 0):\n",
    "            self.choice = np.random.randint(low=0, high = self.nb_channels)\n",
    "        \n",
    "        # Explore ?\n",
    "        elif np.random.uniform(size=1) < self.epsilon :\n",
    "            self.choice = np.random.randint(low=0, high = self.nb_channels)\n",
    "        \n",
    "        # Choose the action that has the best q-value\n",
    "        else:\n",
    "            self.choice = np.argmax(self.q_values)\n",
    "        \n",
    "        return self.choice\n",
    "            \n",
    "    def update_q_value(self, reward):\n",
    "        \n",
    "        #Update the q_values\n",
    "        self.nb_ch_access[self.choice] += 1\n",
    "        self.sum_rewards[self.choice] += reward\n",
    "        self.q_values[self.choice] = self.sum_rewards[self.choice] / self.nb_ch_access[self.choice]\n",
    "        \n",
    "        #Update the cumulative reward\n",
    "        self.cumulative_reward += reward\n",
    "        \n",
    "    def get_cum_reward(self):\n",
    "        return self.cumulative_reward\n",
    "    \n",
    "    def get_q_values(self):\n",
    "        return self.q_values"
   ]
  },
  {
   "cell_type": "markdown",
   "metadata": {},
   "source": [
    "*QUESTION : Explain the methods `choose_action` and `update_q_values`. To which slides are they reffering to?*"
   ]
  },
  {
   "cell_type": "markdown",
   "metadata": {},
   "source": [
    "To see the effect of the exploration parameter $\\epsilon$, we evaluate 11 agents with $\\epsilon$ ranging from 0 to 1."
   ]
  },
  {
   "cell_type": "code",
   "execution_count": 10,
   "metadata": {},
   "outputs": [
    {
     "data": {
      "image/png": "[encoded data removed]",
      "text/plain": [
       "<Figure size 432x288 with 1 Axes>"
      ]
     },
     "metadata": {
      "needs_background": "light"
     },
     "output_type": "display_data"
    }
   ],
   "source": [
    "greedy_results = []\n",
    "\n",
    "#Number of packets we send\n",
    "len_test = 10000\n",
    "\n",
    "#Range of epsilons we want to test\n",
    "epsilon_range = np.linspace(0, 1, 11)\n",
    "for eps in epsilon_range :\n",
    "    \n",
    "    #Set the same seed for each agent\n",
    "    np.random.seed(SEED)\n",
    "    \n",
    "    #create an agent with a given epsilon value\n",
    "    agent_g = GreedyAgent(nb_channels = 7, epsilon = eps)\n",
    "\n",
    "    #Send 10.000 packets\n",
    "    for i in range(len_test):\n",
    "        action = agent_g.choose_action()\n",
    "        reward = choose_env.run(action)\n",
    "        agent_g.update_q_value(reward)\n",
    "    \n",
    "    #Store cumulative reward for that agent\n",
    "    greedy_results.append(agent_g.get_cum_reward())\n",
    "\n",
    "# Plot the cumulative reward as a function of the epsilon value\n",
    "plt.plot(epsilon_range, greedy_results)\n",
    "plt.ylim(0, len_test)\n",
    "plt.xlabel('Epsilon')\n",
    "plt.ylabel('Cumulative reward after 10.000 time steps');"
   ]
  },
  {
   "cell_type": "markdown",
   "metadata": {},
   "source": [
    "*QUESTION : At each time-step, we need to choose an action and refine the estimation of our Q-function. Where is that defined?*"
   ]
  },
  {
   "cell_type": "markdown",
   "metadata": {},
   "source": [
    "What was the best epsilon?"
   ]
  },
  {
   "cell_type": "code",
   "execution_count": 11,
   "metadata": {
    "scrolled": true
   },
   "outputs": [
    {
     "name": "stdout",
     "output_type": "stream",
     "text": [
      "Best epsilon = 0.1\n"
     ]
    }
   ],
   "source": [
    "best_epsilon = epsilon_range[np.argmax(greedy_results)]\n",
    "print('Best epsilon = ' + str(best_epsilon))"
   ]
  },
  {
   "cell_type": "markdown",
   "metadata": {},
   "source": [
    "We can see wich channels where choosen for different epsilon values to understand the result :"
   ]
  },
  {
   "cell_type": "code",
   "execution_count": 12,
   "metadata": {},
   "outputs": [
    {
     "data": {
      "image/png": "[encoded data removed]",
      "text/plain": [
       "<Figure size 720x360 with 1 Axes>"
      ]
     },
     "metadata": {
      "needs_background": "light"
     },
     "output_type": "display_data"
    },
    {
     "name": "stdout",
     "output_type": "stream",
     "text": [
      "Q values after 10.000 times steps: \n",
      "[0.  0.  0.  0.2 0.  0.  0. ]\n"
     ]
    },
    {
     "data": {
      "image/png": "[encoded data removed]",
      "text/plain": [
       "<Figure size 720x360 with 1 Axes>"
      ]
     },
     "metadata": {
      "needs_background": "light"
     },
     "output_type": "display_data"
    },
    {
     "name": "stdout",
     "output_type": "stream",
     "text": [
      "Q values after 10.000 times steps: \n",
      "[0.8  0.16 0.   0.14 0.21 0.   0.4 ]\n"
     ]
    },
    {
     "data": {
      "image/png": "[encoded data removed]",
      "text/plain": [
       "<Figure size 720x360 with 1 Axes>"
      ]
     },
     "metadata": {
      "needs_background": "light"
     },
     "output_type": "display_data"
    },
    {
     "name": "stdout",
     "output_type": "stream",
     "text": [
      "Q values after 10.000 times steps: \n",
      "[0.8  0.2  0.   0.2  0.21 0.   0.4 ]\n"
     ]
    }
   ],
   "source": [
    "regret_dic = {}\n",
    "\n",
    "for eps in [0, best_epsilon, 1]:\n",
    "    \n",
    "    regret_dic[str(eps)]=[]\n",
    "    \n",
    "    action_history=[]\n",
    "\n",
    "    np.random.seed(SEED)\n",
    "    agent_g = GreedyAgent(nb_channels = 7, epsilon = eps)\n",
    "\n",
    "    for i in range(len_test):\n",
    "        action = agent_g.choose_action()\n",
    "        reward = choose_env.run(action)\n",
    "        agent_g.update_q_value(reward)\n",
    "        \n",
    "        #Record logs\n",
    "        action_history.append(action)\n",
    "        regret_dic[str(eps)].append(agent_g.get_cum_reward())\n",
    "    \n",
    "    # Display the actions\n",
    "    plt.figure(figsize=(10, 5))\n",
    "    plt.title(('Epsilon='+str(eps)))\n",
    "    plt.ylabel('Action taken')\n",
    "    plt.ylim(-0.5, 6.5)\n",
    "    plt.xlabel('Time steps')\n",
    "    plt.scatter(np.arange(len_test), action_history, s=5)\n",
    "    plt.show()\n",
    "    print('Q values after 10.000 times steps: \\n'+np.array2string(agent_g.get_q_values(), precision=2))"
   ]
  },
  {
   "cell_type": "markdown",
   "metadata": {},
   "source": [
    "*QUESTION : Can you explain the different behaviours?*"
   ]
  },
  {
   "cell_type": "markdown",
   "metadata": {},
   "source": [
    "## Upper Confidence Bound Agent"
   ]
  },
  {
   "cell_type": "markdown",
   "metadata": {},
   "source": [
    "Now, we build a better agent that implements the Upper Confidence Bound policy\n",
    "\n",
    "It needs to keeps track of:\n",
    "- The number of channels availables (7 here)\n",
    "- The number of times it accessed each channels $N_t(a)$\n",
    "- The estimated q_values for each channels\n",
    "- The UCB for each channel $ = Q_t(a) + \\sqrt(\\frac{ln(t)}{N_t(a)})$\n",
    "- The cumulative reward (optional)\n",
    "\n",
    "The ucb values are stored in a array and initialized at zeros : $[ucb_0, ucb_1, ..., ucb_6]$ (7 channels)\n"
   ]
  },
  {
   "cell_type": "code",
   "execution_count": 13,
   "metadata": {},
   "outputs": [],
   "source": [
    "class UCBAgent():\n",
    "    def __init__(self, nb_channels):\n",
    "        \n",
    "        self.nb_channels = nb_channels\n",
    "        self.nb_ch_access = np.zeros(shape=(self.nb_channels))\n",
    "        self.sum_rewards = np.zeros(shape=(self.nb_channels))\n",
    "        self.q_values = np.zeros(shape=(self.nb_channels))\n",
    "        \n",
    "        self.ucb = np.zeros(shape=(self.nb_channels))\n",
    "        self.cumulative_reward = 0\n",
    "        self.time_step = 0\n",
    "    \n",
    "    def choose_action(self):\n",
    "        \n",
    "        # First time ?\n",
    "        if self.time_step < self.nb_channels:\n",
    "            self.choice = self.time_step\n",
    "        \n",
    "        else:\n",
    "            self.choice = np.argmax(self.ucb)\n",
    "        \n",
    "        return self.choice\n",
    "            \n",
    "    def update_ucb_value(self, reward):\n",
    "        \n",
    "        #Update the UCB values\n",
    "        self.time_step += 1 \n",
    "        self.nb_ch_access[self.choice] += 1\n",
    "        self.sum_rewards[self.choice] += reward\n",
    "        self.q_values[self.choice] = self.sum_rewards[self.choice] / self.nb_ch_access[self.choice]\n",
    "        self.ucb[self.choice] = self.q_values[self.choice] + np.sqrt(2*np.log(self.time_step)/self.nb_ch_access[self.choice])\n",
    "        \n",
    "        #Update the cumulative reward\n",
    "        self.cumulative_reward += reward\n",
    "        \n",
    "    def get_cum_reward(self):\n",
    "        return self.cumulative_reward\n",
    "    \n",
    "    def get_q_values(self):\n",
    "        return self.q_values"
   ]
  },
  {
   "cell_type": "markdown",
   "metadata": {},
   "source": [
    "Let's play with that UCB agent :"
   ]
  },
  {
   "cell_type": "code",
   "execution_count": 14,
   "metadata": {},
   "outputs": [],
   "source": [
    "action_history=[]\n",
    "regret_dic['ucb']=[]\n",
    "\n",
    "#Instantiate the agent\n",
    "np.random.seed(SEED)\n",
    "agent_ucb = UCBAgent(nb_channels = 7)\n",
    "\n",
    "#Send 10.000 packets\n",
    "for i in range(len_test):\n",
    "    action = agent_ucb.choose_action()\n",
    "    reward = choose_env.run(action)\n",
    "    agent_ucb.update_ucb_value(reward)\n",
    "    \n",
    "    #Record logs\n",
    "    action_history.append(action)\n",
    "    regret_dic['ucb'].append(agent_ucb.get_cum_reward())"
   ]
  },
  {
   "cell_type": "code",
   "execution_count": 15,
   "metadata": {},
   "outputs": [
    {
     "name": "stdout",
     "output_type": "stream",
     "text": [
      "Q values after 10.000 times steps: \n",
      "[0.8  0.19 0.   0.17 0.24 0.   0.27]\n"
     ]
    },
    {
     "data": {
      "image/png": "[encoded data removed]",
      "text/plain": [
       "<Figure size 720x360 with 1 Axes>"
      ]
     },
     "metadata": {
      "needs_background": "light"
     },
     "output_type": "display_data"
    }
   ],
   "source": [
    "plt.figure(figsize=(10, 5))\n",
    "plt.title('UCB')\n",
    "plt.ylabel('Action taken')\n",
    "plt.ylim(-0.5, 6.5)\n",
    "plt.xlabel('Time steps')\n",
    "plt.scatter(np.arange(len_test), action_history, s=5)\n",
    "print('Q values after 10.000 times steps: \\n'+np.array2string(agent_ucb.get_q_values(), precision=2))"
   ]
  },
  {
   "cell_type": "markdown",
   "metadata": {},
   "source": [
    "*QUESTION : can you expalin this behaviour?*\n",
    "\n",
    "**Now, let's compare all agents :**"
   ]
  },
  {
   "cell_type": "code",
   "execution_count": 16,
   "metadata": {
    "scrolled": true
   },
   "outputs": [
    {
     "data": {
      "image/png": "[encoded data removed]",
      "text/plain": [
       "<Figure size 1080x360 with 2 Axes>"
      ]
     },
     "metadata": {
      "needs_background": "light"
     },
     "output_type": "display_data"
    }
   ],
   "source": [
    "plt.figure(figsize=(15, 5))\n",
    "plt.subplot(1, 2, 1)\n",
    "plt.title('First 100 time steps')\n",
    "plt.xlabel('Time steps')\n",
    "plt.ylabel('cumulative reward')\n",
    "plt.plot(np.arange(100), regret_dic['0'][:100], label='Greedy, epsilon = 0')\n",
    "plt.plot(np.arange(100), regret_dic[str(best_epsilon)][:100], label='Greedy, epsion = '+str(best_epsilon))\n",
    "plt.plot(np.arange(100), regret_dic['1'][:100], label ='Greedy, epsilon = 1')\n",
    "plt.plot(np.arange(100), regret_dic['ucb'][:100], label='UCB')\n",
    "plt.legend()\n",
    "\n",
    "\n",
    "plt.subplot(1, 2, 2)\n",
    "plt.title('First 10.000 time steps')\n",
    "plt.xlabel('Time steps')\n",
    "plt.ylabel('cumulative reward')\n",
    "plt.plot(np.arange(len_test), regret_dic['0'], label='Greedy, epsilon = 0')\n",
    "plt.plot(np.arange(len_test), regret_dic[str(best_epsilon)], label='Greedy, epsion = '+str(best_epsilon))\n",
    "plt.plot(np.arange(len_test), regret_dic['1'], label ='Greedy, epsilon = 1')\n",
    "plt.plot(np.arange(len_test), regret_dic['ucb'], label='UCB')\n",
    "plt.legend();\n"
   ]
  },
  {
   "cell_type": "markdown",
   "metadata": {},
   "source": [
    "*QUESTION : In the end, what was the most effective policy and why?*"
   ]
  },
  {
   "cell_type": "markdown",
   "metadata": {},
   "source": [
    "# 2. Offline Training"
   ]
  },
  {
   "cell_type": "markdown",
   "metadata": {},
   "source": [
    "## Standard Q-Learning"
   ]
  },
  {
   "cell_type": "markdown",
   "metadata": {},
   "source": [
    "**Don't look at the code below. It's the code of the environment.**"
   ]
  },
  {
   "cell_type": "code",
   "execution_count": 18,
   "metadata": {},
   "outputs": [],
   "source": [
    "# DO NOT LOOK AT THAT CODE\n",
    "class SenseEnv():\n",
    "    def __init__(self):\n",
    "        \n",
    "        self.ch_grid = np.array([[1, 1, 1, 1, 0],\n",
    "                                 [0, 1, 0, 0, 0],\n",
    "                                 [0, 0, 0, 0, 0],\n",
    "                                 [0, 1, 0, 0, 0],\n",
    "                                 [1, 0, 0, 0, 0],\n",
    "                                 [0, 0, 0, 0, 0],\n",
    "                                 [0, 0, 0, 1, 1]]).astype(np.float32)\n",
    "        self.init_state = [3, 4, 0]\n",
    "        \n",
    "        self.state_idx = self.init_state[1]\n",
    "        self.curr_ch = self.init_state[0]\n",
    "        \n",
    "        plt.imshow(np.flip(self.ch_grid, axis=0), origin=\"lower\", cmap='gray', vmin=0, vmax=1)\n",
    "        \n",
    "        print('This environment has 7 different channels')\n",
    "        \n",
    "    def run(self, action):\n",
    "                \n",
    "        self.state_idx  = (self.state_idx + 1)%5\n",
    "        self.curr_ch = (self.curr_ch + action)%7\n",
    "        \n",
    "        reward = self.ch_grid[self.curr_ch, self.state_idx]\n",
    "        \n",
    "        if self.state_idx == 4 :\n",
    "            end = 1\n",
    "        else :\n",
    "            end = 0\n",
    "        \n",
    "        return(reward, [self.curr_ch, self.state_idx, end])\n",
    "    \n",
    "    def get_init_state(self):\n",
    "        return self.init_state\n",
    "    \n",
    "    def initialize(self):\n",
    "        self.state_idx = self.init_state[1]\n",
    "        self.curr_ch = self.init_state[0]"
   ]
  },
  {
   "cell_type": "markdown",
   "metadata": {},
   "source": [
    "**Don't look at the code below. It's boring.**"
   ]
  },
  {
   "cell_type": "code",
   "execution_count": 19,
   "metadata": {},
   "outputs": [],
   "source": [
    "def evaluate_q_agent(agent, display = False):\n",
    "\n",
    "    action_history=[]\n",
    "    tot_reward = 0\n",
    "    \n",
    "    sense_env.initialize()\n",
    "    first_state = sense_env.get_init_state()\n",
    "    action = agent.choose_action(first_state, epsilon = 0)\n",
    "    action_history.append(action)\n",
    "    reward, new_state = sense_env.run(action)\n",
    "    tot_reward += reward\n",
    "    \n",
    "    while new_state[2]==0:\n",
    "        \n",
    "        action = agent.choose_action(new_state, epsilon = 0)\n",
    "        action_history.append(action)\n",
    "        reward, new_state = sense_env.run(action)\n",
    "        tot_reward += reward\n",
    "    \n",
    "    choosen_channels = [3]\n",
    "    for i in range(len(action_history)):\n",
    "        choosen_channels.append((choosen_channels[i]+action_history[i])%7)\n",
    "    choosen_channels = choosen_channels[1:]\n",
    "\n",
    "    if display == True :\n",
    "        channels = np.array([[1, 1, 1, 1, 0],\n",
    "                             [0, 1, 0, 0, 0],\n",
    "                             [0, 0, 0, 0, 0],\n",
    "                             [0, 1, 0, 0, 0],\n",
    "                             [1, 0, 0, 0, 0],\n",
    "                             [0, 0, 0, 0, 0],\n",
    "                             [0, 0, 0, 1, 1]]).astype(np.float32)\n",
    "        plt.imshow(np.flip(channels, axis=0), origin=\"lower\", cmap='gray', vmin=0, vmax=1)\n",
    "        for i in range(len(choosen_channels)):\n",
    "            plt.scatter(i, channels.shape[0]-1-choosen_channels[i], color='r')\n",
    "        print(str(tot_reward)[0]+'/5 packets have been transmitted')\n",
    "    return tot_reward"
   ]
  },
  {
   "cell_type": "markdown",
   "metadata": {},
   "source": [
    "<img src=\"https://github.com/mgoutay/ml_course/blob/master/Images/Channels.jpeg?raw=true\" alt=\"Drawing\" style=\"width: 200px;\"/>\n",
    "\n",
    "### Problem formulation:\n",
    "\n",
    "- You are in an industrial environment with 7 different channels\n",
    "- All existing machines transmit with a certain periodicity\n",
    "- You install a new IoT sensor, and need to find on which channel to transmit 5 packets\n",
    "- You can sense the channels before sending a packet(!)\n",
    "\n",
    "$\\rightarrow$ Which channels do you choose?\n",
    "\n",
    "\n",
    "### Framework: \n",
    "You start at the **red point**\n",
    "\n",
    "At each time step:\n",
    "- You sense the channels (state)\n",
    "- You see if the previously transmitted packet has been correctly received (reward)\n",
    "- You decide on which channel you transmit next (action)\n",
    "\n",
    "**Offline training** : You can learn on as many episodes as you want \n"
   ]
  },
  {
   "cell_type": "markdown",
   "metadata": {},
   "source": [
    "First, we need to instantiate an environment, that we call `sense_env` :"
   ]
  },
  {
   "cell_type": "code",
   "execution_count": 20,
   "metadata": {},
   "outputs": [
    {
     "name": "stdout",
     "output_type": "stream",
     "text": [
      "This environment has 7 different channels\n"
     ]
    },
    {
     "data": {
      "image/png": "[encoded data removed]",
      "text/plain": [
       "<Figure size 432x288 with 1 Axes>"
      ]
     },
     "metadata": {
      "needs_background": "light"
     },
     "output_type": "display_data"
    }
   ],
   "source": [
    "sense_env = SenseEnv()"
   ]
  },
  {
   "cell_type": "markdown",
   "metadata": {},
   "source": [
    "The environnement implements three methods:\n",
    "- `initialize()` : Initialize the environment in the initial state\n",
    "- `get_init_state()` : returns the initial state\n",
    "- `run(action)` : given a action, returns the corresponding reward and a new state\n",
    "\n",
    "We can see the initial state of the environment :"
   ]
  },
  {
   "cell_type": "code",
   "execution_count": 21,
   "metadata": {},
   "outputs": [
    {
     "name": "stdout",
     "output_type": "stream",
     "text": [
      "[3, 4, 0]\n"
     ]
    }
   ],
   "source": [
    "#Get initial state\n",
    "sense_env.initialize()\n",
    "print(sense_env.get_init_state())"
   ]
  },
  {
   "cell_type": "markdown",
   "metadata": {},
   "source": [
    "## How the environment works :\n",
    "\n",
    "The **state** comprises :\n",
    "- The channel in which we transmitted (integer)(7 possibilities)\n",
    "- The channel state index we sense (integer)(5 possibilities)\n",
    "- The 𝜉 Boolean (=1 if it’s the end, =0 otherwise)\n",
    "\n",
    "The possible **actions** are : \n",
    "- Transmit in the channel above (mod 7) : +1\n",
    "- Transmit in the same channel : 0\n",
    "- Transmit in the channel below (mod 7) : -1\n",
    "\n",
    "The **rewards are** :\n",
    "- 1 if the transmission was successful\n",
    "- 0 otherwise\n"
   ]
  },
  {
   "cell_type": "markdown",
   "metadata": {},
   "source": [
    "**It's time to build our q-learning agent**\n",
    "\n",
    "It has the following attributes :\n",
    "- The number of channels availables (7 here)\n",
    "- The number of different channel states (5 here)\n",
    "- The learning rate $\\alpha$\n",
    "- The discount factor $\\gamma$\n",
    "- The Q-table\n",
    "\n",
    "The Q table is storred in a big array of dimension (nb_channels, nb_channels_states, 3):\n",
    "\n",
    "![Q table](https://github.com/mgoutay/ml_course/blob/master/Images/Q_table.jpeg?raw=true)\n"
   ]
  },
  {
   "cell_type": "code",
   "execution_count": 22,
   "metadata": {},
   "outputs": [],
   "source": [
    "class QAgent():\n",
    "    def __init__(self, nb_channels, nb_state_idx, learning_rate, gamma):\n",
    "        \n",
    "        self.nb_channels = nb_channels\n",
    "        self.nb_state_idx = nb_state_idx\n",
    "        self.learning_rate = learning_rate\n",
    "        self.gamma = gamma\n",
    "        \n",
    "        self.q_table = np.zeros(shape=(self.nb_channels, self.nb_state_idx, 3))\n",
    "            \n",
    "    def choose_action(self, state, epsilon):\n",
    "        \n",
    "        self.curr_ch, self.state_idx, self.end = state\n",
    "        \n",
    "        # First time on that state ?\n",
    "        if np.all(self.q_table[tuple([self.curr_ch, self.state_idx])] == 0):\n",
    "            self.action = np.random.randint(low = -1, high = 2)\n",
    "            \n",
    "        # All actions equivalents ?\n",
    "        elif np.all(self.q_table[tuple([self.curr_ch, self.state_idx])] == self.q_table[tuple([self.curr_ch, self.state_idx])][0]):\n",
    "            self.action = np.random.randint(low = -1, high = 2)\n",
    "            \n",
    "        # Explore ?\n",
    "        elif np.random.uniform(size=1) < epsilon :\n",
    "            \n",
    "            self.action = np.random.randint(low = -1, high = 2)\n",
    "        \n",
    "        # Choose the action that has the best q-value\n",
    "        else:\n",
    "            self.action = np.argmax(self.q_table[tuple([self.curr_ch, self.state_idx])])-1\n",
    "\n",
    "        return self.action\n",
    "            \n",
    "    def update_q_value(self, reward, new_state):\n",
    "        \n",
    "        #Decompose the state \n",
    "        n_curr_ch, n_state_idx, n_end = new_state\n",
    "        \n",
    "        #Update Q_values\n",
    "        q_value_index = [self.curr_ch, self.state_idx, self.action+1]\n",
    "        next_best_q_value = np.max(self.q_table[tuple([n_curr_ch, n_state_idx])])\n",
    "        better_estimate = reward + (1-n_end) * self.gamma * next_best_q_value\n",
    "        error = better_estimate - self.q_table[tuple(q_value_index)]\n",
    "        self.q_table[tuple(q_value_index)] += self.learning_rate * error\n",
    "        \n",
    "    def step(self, reward, new_state, epsilon):\n",
    "        \n",
    "        # At each step, the agent update its q_value and according to the reward and choose the next action\n",
    "        self.update_q_value(reward, new_state)\n",
    "        action = self.choose_action(new_state, epsilon)\n",
    "        return action\n",
    "        \n",
    "    \n",
    "    def get_q_table(self):\n",
    "        return self.q_table"
   ]
  },
  {
   "cell_type": "markdown",
   "metadata": {},
   "source": [
    "*QUESTION : Explain the methods `choose_action` and `update_q_values`. To which slides are they reffering to?*\n",
    "- *Notice that the methods `step` performs both `update_q_values` and `choose_action`*"
   ]
  },
  {
   "cell_type": "markdown",
   "metadata": {},
   "source": [
    "First, we evaluate the agents with a discount factor $\\gamma = 0$ :"
   ]
  },
  {
   "cell_type": "code",
   "execution_count": 23,
   "metadata": {
    "scrolled": true
   },
   "outputs": [
    {
     "name": "stdout",
     "output_type": "stream",
     "text": [
      "2/5 packets have been transmitted\n"
     ]
    },
    {
     "data": {
      "text/plain": [
       "2.0"
      ]
     },
     "execution_count": 23,
     "metadata": {},
     "output_type": "execute_result"
    },
    {
     "data": {
      "image/png": "[encoded data removed]",
      "text/plain": [
       "<Figure size 432x288 with 1 Axes>"
      ]
     },
     "metadata": {
      "needs_background": "light"
     },
     "output_type": "display_data"
    }
   ],
   "source": [
    "agent_q = QAgent(nb_channels=7, nb_state_idx=5, learning_rate=0.1, gamma=0)\n",
    "\n",
    "np.random.seed(SEED)\n",
    "nb_trainings = 10000\n",
    "\n",
    "epsilon = 0.75 # As we are doing offline training, we can explore a lot\n",
    "\n",
    "for i in range(nb_trainings):\n",
    "    \n",
    "    # Initialize environment and get the initial state\n",
    "    sense_env.initialize()\n",
    "    first_state = sense_env.get_init_state()\n",
    "    \n",
    "    #Choose an action and receive a reward\n",
    "    action = agent_q.choose_action(first_state, epsilon)\n",
    "    reward, new_state = sense_env.run(action)\n",
    "    \n",
    "    # While it's not the end of the episode\n",
    "    while new_state[2] == 0:\n",
    "        #Choose an action and receive a reward\n",
    "        action = agent_q.step(reward, new_state, epsilon)\n",
    "        reward, new_state = sense_env.run(action)\n",
    "    #Update the q_values one last time with the last state and reward\n",
    "    agent_q.update_q_value(reward, new_state)\n",
    "\n",
    "# See what the agent has learned\n",
    "evaluate_q_agent(agent_q, display=True)"
   ]
  },
  {
   "cell_type": "markdown",
   "metadata": {},
   "source": [
    "*QUESTION : why is the agent performing so badly?*\n",
    "\n",
    "Let's try with $\\gamma=0.5$ :"
   ]
  },
  {
   "cell_type": "code",
   "execution_count": 24,
   "metadata": {
    "scrolled": true
   },
   "outputs": [
    {
     "name": "stdout",
     "output_type": "stream",
     "text": [
      "3/5 packets have been transmitted\n"
     ]
    },
    {
     "data": {
      "text/plain": [
       "3.0"
      ]
     },
     "execution_count": 24,
     "metadata": {},
     "output_type": "execute_result"
    },
    {
     "data": {
      "image/png": "[encoded data removed]",
      "text/plain": [
       "<Figure size 432x288 with 1 Axes>"
      ]
     },
     "metadata": {
      "needs_background": "light"
     },
     "output_type": "display_data"
    }
   ],
   "source": [
    "agent_q = QAgent(nb_channels=7, nb_state_idx=5, learning_rate=0.1, gamma=0.5)\n",
    "\n",
    "np.random.seed(SEED)\n",
    "nb_trainings = 10000\n",
    "\n",
    "epsilon = 0.75 # As we are doing offline training, we can explore a lot\n",
    "\n",
    "for i in range(nb_trainings):\n",
    "    \n",
    "    # Initialize environment and get the initial state\n",
    "    sense_env.initialize()\n",
    "    first_state = sense_env.get_init_state()\n",
    "    \n",
    "    #Choose an action and receive a reward\n",
    "    action = agent_q.choose_action(first_state, epsilon)\n",
    "    reward, new_state = sense_env.run(action)\n",
    "    \n",
    "    # While it is not the end of the episode\n",
    "    while new_state[2] == 0:\n",
    "        #Choose an action and receive a reward\n",
    "        action = agent_q.step(reward, new_state, epsilon)\n",
    "        reward, new_state = sense_env.run(action)\n",
    "    #Update the q_values one last time with the last state and reward\n",
    "    agent_q.update_q_value(reward, new_state)\n",
    "\n",
    "# See what the agent has learned\n",
    "evaluate_q_agent(agent_q, display=True)"
   ]
  },
  {
   "cell_type": "markdown",
   "metadata": {},
   "source": [
    "*QUESTION : The agent is performing better, why?*\n",
    "\n",
    "Let's try with $\\gamma=1$ :"
   ]
  },
  {
   "cell_type": "code",
   "execution_count": 25,
   "metadata": {},
   "outputs": [
    {
     "name": "stdout",
     "output_type": "stream",
     "text": [
      "4/5 packets have been transmitted\n"
     ]
    },
    {
     "data": {
      "text/plain": [
       "4.0"
      ]
     },
     "execution_count": 25,
     "metadata": {},
     "output_type": "execute_result"
    },
    {
     "data": {
      "image/png": "[encoded data removed]",
      "text/plain": [
       "<Figure size 432x288 with 1 Axes>"
      ]
     },
     "metadata": {
      "needs_background": "light"
     },
     "output_type": "display_data"
    }
   ],
   "source": [
    "agent_q = QAgent(nb_channels=7, nb_state_idx=5, learning_rate=0.1, gamma=1.)\n",
    "\n",
    "np.random.seed(SEED)\n",
    "nb_trainings = 10000\n",
    "\n",
    "epsilon = 0.75 # As we are doing offline training, we can explore a lot\n",
    "\n",
    "for i in range(nb_trainings):\n",
    "    \n",
    "    # Initialize environment and get the initial state\n",
    "    sense_env.initialize()\n",
    "    first_state = sense_env.get_init_state()\n",
    "    \n",
    "    #Choose an action and receive a reward\n",
    "    action = agent_q.choose_action(first_state, epsilon)\n",
    "    reward, new_state = sense_env.run(action)\n",
    "    \n",
    "    # While it is not the end of the episode\n",
    "    while new_state[2] == 0:\n",
    "        #Choose an action and receive a reward\n",
    "        action = agent_q.step(reward, new_state, epsilon)\n",
    "        reward, new_state = sense_env.run(action)\n",
    "    #Update the q_values one last time with the last state and reward\n",
    "    agent_q.update_q_value(reward, new_state)\n",
    "\n",
    "# See what the agent has learned\n",
    "evaluate_q_agent(agent_q, display=True)"
   ]
  },
  {
   "cell_type": "markdown",
   "metadata": {},
   "source": [
    "With $\\gamma=1$, the agent only looks at the total return. It preffered to miss the first transmission to get all the other one successful.\n",
    "\n",
    "**In our scenario, that was the best thing to do!**\n",
    "\n",
    "You can have a look at the Q_table below. The Q-table is displayed as the channels are displayed above (7 channels, 5 channel states), and the grouped values are for the 3 actions (Up, Stay, Down)."
   ]
  },
  {
   "cell_type": "code",
   "execution_count": 26,
   "metadata": {},
   "outputs": [
    {
     "data": {
      "text/plain": [
       "array([[[0.        , 0.        , 2.        , 1.        , 0.        ],\n",
       "        [0.        , 0.        , 2.        , 0.        , 0.        ],\n",
       "        [0.        , 0.        , 0.        , 0.        , 0.        ]],\n",
       "\n",
       "       [[0.        , 3.        , 2.        , 0.        , 0.        ],\n",
       "        [0.        , 2.        , 0.        , 0.        , 0.        ],\n",
       "        [0.        , 0.        , 0.        , 0.        , 0.        ]],\n",
       "\n",
       "       [[4.        , 2.        , 0.        , 0.        , 0.        ],\n",
       "        [2.        , 0.        , 0.        , 0.        , 0.        ],\n",
       "        [2.        , 0.        , 0.        , 0.        , 0.        ]],\n",
       "\n",
       "       [[2.        , 0.        , 0.        , 0.        , 4.        ],\n",
       "        [2.        , 0.        , 0.        , 0.        , 2.        ],\n",
       "        [2.        , 1.        , 0.        , 0.        , 3.        ]],\n",
       "\n",
       "       [[2.        , 0.        , 0.        , 0.        , 0.        ],\n",
       "        [2.        , 1.        , 0.        , 0.        , 0.        ],\n",
       "        [2.        , 2.        , 1.        , 0.        , 0.        ]],\n",
       "\n",
       "       [[0.        , 0.99999997, 0.        , 0.        , 0.        ],\n",
       "        [0.        , 2.        , 1.        , 0.        , 0.        ],\n",
       "        [0.        , 1.99960281, 2.        , 1.        , 0.        ]],\n",
       "\n",
       "       [[0.        , 0.        , 0.97822094, 0.        , 0.        ],\n",
       "        [0.        , 0.        , 1.92089292, 1.        , 0.        ],\n",
       "        [0.        , 0.        , 1.99981182, 0.        , 0.        ]]])"
      ]
     },
     "execution_count": 26,
     "metadata": {},
     "output_type": "execute_result"
    }
   ],
   "source": [
    "np.transpose(agent_q.get_q_table(), [0, 2, 1])"
   ]
  },
  {
   "cell_type": "markdown",
   "metadata": {},
   "source": [
    "*QUESTION : Interpret what you see*"
   ]
  },
  {
   "cell_type": "markdown",
   "metadata": {},
   "source": [
    "# 3. Deep Q-Learning"
   ]
  },
  {
   "cell_type": "markdown",
   "metadata": {},
   "source": [
    "**Don't look at the code below. It's the code of the environment.**"
   ]
  },
  {
   "cell_type": "code",
   "execution_count": 7,
   "metadata": {},
   "outputs": [],
   "source": [
    "# DO NOT LOOK AT THAT CODE\n",
    "class DQEnv():\n",
    "    def __init__(self, nb_channels = 7, nb_states=5, random=False):\n",
    "        \n",
    "        if (nb_channels+1)%2!=0:\n",
    "            print('/!\\ Please enter an even number of channels')\n",
    "            \n",
    "        self.nb_ch = nb_channels\n",
    "        self.nb_states = nb_states\n",
    "        \n",
    "        self.grid = new_grid(random, self.nb_ch, self.nb_states, 1, int((self.nb_ch+1)/2), display=True)\n",
    "        \n",
    "        self.init_state = [int((self.nb_ch-1)/2), int(self.nb_states-1)]\n",
    "        self.ch_state = self.init_state[1]\n",
    "        self.curr_ch = self.init_state[0]\n",
    "        self.sent_mess = 0\n",
    "        \n",
    "        print('This environment has ' + str(self.nb_ch) +' different channels')\n",
    "        \n",
    "    def run(self, action):\n",
    "        \n",
    "        self.sent_mess += 1\n",
    "        \n",
    "        self.ch_state  = (self.ch_state + 1)%self.nb_states\n",
    "        \n",
    "        self.curr_ch = (self.curr_ch + action)%self.nb_ch\n",
    "        \n",
    "        reward = self.grid[self.curr_ch, self.ch_state]\n",
    "        \n",
    "        if self.sent_mess != self.nb_states: \n",
    "            end = 0\n",
    "        else :\n",
    "            end = 1\n",
    "        \n",
    "        return(reward, [self.grid[:, self.ch_state], self.one_hot(self.curr_ch, self.nb_ch), end])\n",
    "    \n",
    "    def get_init_state(self):\n",
    "        return [self.grid[:, self.init_state[1]], self.one_hot(self.init_state[0], self.nb_ch), 0]\n",
    "    \n",
    "    def initialize(self):\n",
    "        self.ch_state = self.init_state[1]\n",
    "        self.curr_ch = self.init_state[0]\n",
    "        self.sent_mess = 0\n",
    "        \n",
    "    def one_hot(self, index, depth):\n",
    "        oh = np.zeros(depth, dtype=np.float32)\n",
    "        oh[index] = 1\n",
    "        return oh"
   ]
  },
  {
   "cell_type": "markdown",
   "metadata": {},
   "source": [
    "**Don't look at the code below. It's boring.**"
   ]
  },
  {
   "cell_type": "code",
   "execution_count": 8,
   "metadata": {},
   "outputs": [],
   "source": [
    "def evaluate_dq_agent(agent, grid, display = False):\n",
    "\n",
    "    action_history=[]\n",
    "    tot_reward = 0\n",
    "    \n",
    "    dq_env.initialize()\n",
    "    first_state = dq_env.get_init_state()\n",
    "    action = agent.choose_action(first_state, epsilon = 0)\n",
    "    action_history.append(action)\n",
    "    reward, new_state = dq_env.run(action)\n",
    "    tot_reward += reward\n",
    "    \n",
    "    for j in range(grid.shape[1]-1):\n",
    "        state = new_state\n",
    "        action = agent.choose_action(state, epsilon = 0)\n",
    "        action_history.append(action)\n",
    "        reward, new_state = dq_env.run(action)\n",
    "        tot_reward += reward\n",
    "\n",
    "    choosen_channels = [(grid.shape[0]-1)/2]\n",
    "    for i in range(len(action_history)):\n",
    "        choosen_channels.append((choosen_channels[i]+action_history[i])%grid.shape[0])\n",
    "    choosen_channels = choosen_channels[1:]\n",
    "\n",
    "    if display == True :\n",
    "        plt.imshow(np.flip(grid, axis=0), origin=\"lower\", cmap='gray', vmin=0, vmax=1)\n",
    "        for i in range(len(choosen_channels)):\n",
    "            plt.scatter(i, grid.shape[0]-1-choosen_channels[i], color='r')\n",
    "        print(str(int(tot_reward))+'/'+str(grid.shape[1])+' packets have been transmitted')\n",
    "    return tot_reward"
   ]
  },
  {
   "cell_type": "markdown",
   "metadata": {},
   "source": [
    "Previously, we knew that there were only 5 channel states\n",
    "\n",
    "$\\rightarrow$ **What if we don’t know that?**"
   ]
  },
  {
   "cell_type": "code",
   "execution_count": 9,
   "metadata": {
    "scrolled": true
   },
   "outputs": [
    {
     "name": "stdout",
     "output_type": "stream",
     "text": [
      "This environment has 7 different channels\n"
     ]
    },
    {
     "data": {
      "image/png": "[encoded data removed]",
      "text/plain": [
       "<Figure size 432x288 with 1 Axes>"
      ]
     },
     "metadata": {
      "needs_background": "light"
     },
     "output_type": "display_data"
    }
   ],
   "source": [
    "dq_env = DQEnv(random=False)"
   ]
  },
  {
   "cell_type": "markdown",
   "metadata": {},
   "source": [
    "## How the environment works :\n",
    "\n",
    "The **state** comprises :\n",
    "- The channel in which we transmitted (**one hot vector**)\n",
    "- The channels we sense (**vector**)\n",
    "- The 𝜉 Boolean (=1 if it’s the end, =0 otherwise)\n",
    "\n",
    "The possible **actions** are : \n",
    "- Go down (mod 7) : -1\n",
    "- Stay there : 0\n",
    "- Go up (mod 7) : +1\n",
    "\n",
    "The **rewards are** :\n",
    "- 1 if the transmission was successful\n",
    "- 0 otherwise\n",
    "\n",
    "The environnement implements three methods:\n",
    "- `initialize()` : Initialize the environment in the initial state\n",
    "- `get_init_state()` : returns the initial state\n",
    "- `run(action)` : given a action, returns the corresponding reward and a new state\n",
    "\n",
    "We can see the initial state of the environment : \n",
    "\n",
    "<img src=\"https://github.com/mgoutay/ml_course/blob/master/Images/Channels.jpeg?raw=true\" alt=\"Drawing\" style=\"width: 150px;\"/>\n",
    "\n",
    "Corresponds to:\n",
    "\n",
    "<img src=\"https://github.com/mgoutay/ml_course/blob/master/Images/DRL_state.JPG?raw=true\" alt=\"Drawing\" style=\"width: 600px;\"/>\n"
   ]
  },
  {
   "cell_type": "code",
   "execution_count": 10,
   "metadata": {},
   "outputs": [
    {
     "name": "stdout",
     "output_type": "stream",
     "text": [
      "[array([0., 0., 0., 0., 0., 0., 1.], dtype=float32), array([0., 0., 0., 1., 0., 0., 0.], dtype=float32), 0]\n"
     ]
    }
   ],
   "source": [
    "#Get initial state\n",
    "dq_env.initialize()\n",
    "print(dq_env.get_init_state())"
   ]
  },
  {
   "cell_type": "markdown",
   "metadata": {},
   "source": [
    "**It's time to build our deep q-learning agent**\n",
    "\n",
    "It has the following attributes :\n",
    "- The number of channels availables (7 here)\n",
    "- The number of possible actions (3 here)\n",
    "- The learning rate $\\alpha$\n",
    "- The discount factor $\\gamma$\n",
    "\n",
    "\n",
    "- The history_length : always keep 1000 samples\n",
    "- The history : A list containing 1000 empty lists (each will contain an example S-A-R-S later)\n",
    "- A history_idx : to keep track of where we are writing in the history\n",
    "\n",
    "\n",
    "- The DQN_offline NN\n",
    "- The DQN_online NN \n",
    "- The loss function\n",
    "- The Adam optimizer\n",
    "\n",
    "The DQN take as input a state vector, which is the concatenation of the channel state and current channel :\n",
    "\n",
    "<img src=\"https://github.com/mgoutay/ml_course/blob/master/Images/state_vector.JPG?raw=true\" alt=\"Drawing\" style=\"width: 600px;\"/>"
   ]
  },
  {
   "cell_type": "code",
   "execution_count": 31,
   "metadata": {},
   "outputs": [],
   "source": [
    "class DQAgent():\n",
    "    def __init__(self, nb_channels, learning_rate, gamma):\n",
    "        \n",
    "        self.nb_ch = nb_channels\n",
    "        self.nb_actions = 3\n",
    "        self.gamma = gamma\n",
    "        self.learning_rate = learning_rate\n",
    "        \n",
    "        \n",
    "        self.history_length = 1000 # Initialise history size\n",
    "        self.history = [[]for i in range(self.history_length)] # The history is a list of lists. Each inner list will contain an experience\n",
    "        self.history_idx = 0 # Keeps a history index : when we reach the end of the buffer, we satr to refill from the beginning (FIFO)\n",
    "        \n",
    "        #Create and initialize the online DQN\n",
    "        self.DQN_online = tf.keras.models.Sequential([\n",
    "            Dense(2*self.nb_ch, activation='relu'),\n",
    "            Dense(self.nb_actions, activation='softplus') #Outputs positive values\n",
    "        ])\n",
    "        self.DQN_online.build(input_shape=(None, self.nb_ch*2)) #Build the model to create the weights\n",
    "        \n",
    "        #Create and initialize the offline DQN\n",
    "        self.DQN_offline = tf.keras.models.Sequential([\n",
    "            Dense(2*self.nb_ch, activation='relu'),\n",
    "            Dense(self.nb_actions, activation='softplus') #Outputs positive values\n",
    "        ])\n",
    "        self.DQN_offline.build(input_shape=(None, self.nb_ch*2)) #Build the model to create the weights\n",
    "        \n",
    "        \n",
    "        self.copy_parameters() #Copy the weights of the online network to the offline network\n",
    "        \n",
    "        self.loss_func = tf.keras.losses.MSE\n",
    "        self.optimizer = tf.keras.optimizers.Adam(self.learning_rate)\n",
    "        \n",
    "        \n",
    "    def choose_action(self, state, epsilon):\n",
    "        \"\"\"Implements an epsilon-greedy policy\"\"\"\n",
    "        \n",
    "        # Explore ?\n",
    "        if np.random.uniform(size=1) < epsilon :\n",
    "            action =  np.random.randint(low = -1, high = 2) # Take one action randomly {-1, 0, 1} with probability epsilon\n",
    "        \n",
    "        #Choose the best action\n",
    "        else:    \n",
    "            sensed_ch, curr_ch, end = state #Decomposes the state\n",
    "            '''\n",
    "            * The shapes are :\n",
    "            - curr_ch : [self.nb_ch]\n",
    "            - sensed_ch : [self.nb_ch]\n",
    "            - end : one integer\n",
    "            '''\n",
    "            DQN_input = tf.concat([sensed_ch, curr_ch], axis=0)[tf.newaxis, :] #Create a state vector, which is the DQN input. Shape : [1, 2*self.nb_ch]\n",
    "            # --> Get the predicted Q values corresponding to the 3 actions\n",
    "            # --> Take the action that has the highest predicted Q value. Possible action values = {-1, 0, 1}\n",
    "            \n",
    "        return action\n",
    "    \n",
    "    def learn(self, batch_size):\n",
    "        \"\"\"Sample experiences from the history and performs SGD\"\"\"\n",
    "        \n",
    "        # --> Samples random experiences from the history to obtain batches of S_t, A_t, R_t, S_t+1\n",
    "        \n",
    "        states_vec = # Defines the state vector for the current state (t)\n",
    "        n_states_vec = # -> Defines the state vector for the new state (t+1)\n",
    "        \n",
    "        #Compute the best q_value for the new states with the offline network\n",
    "        max_n_q_values = tf.reduce_max(self.DQN_offline(n_states_vec), axis=1).numpy()\n",
    "\n",
    "        with tf.GradientTape() as tape:\n",
    "            #Forward pass through the online network to predict the q_values for the current state\n",
    "            pred_q_values = #--> Forward pass through the online network to predict the q_values for the current state\n",
    "            \n",
    "            # Compute targets\n",
    "            targets = q_values.numpy()\n",
    "            targets[np.arange(targets.shape[0]), actions+1]= rewards + (1-n_end) * self.gamma * max_n_q_values\n",
    "            \n",
    "            # Evaluate the loss\n",
    "            self.loss = # --> MSE between the pred_q_values and the targets\n",
    "        \n",
    "        # Compute gradients and perform the gradient descent\n",
    "        gradients = # --> Retrieve the gradients w.r.t. the parameters of the online network\n",
    "        # self.optimizer.apply_gradients... --> perform SGD step   \n",
    "    \n",
    "    def insert_history(self, state, action, reward, n_state):\n",
    "        \"\"\"Insert experience in history\"\"\"\n",
    "        \n",
    "        # The data CAN be pre-processed before being saved in the history\n",
    "\n",
    "        self.history[self.history_idx] = # [... , ... , ... ... ] Insert the experience in the history at the position given by the history index\n",
    "        \n",
    "        self.history_idx = (self.history_idx+1)%self.history_length # Move the history_idx by one\n",
    "    \n",
    "    def copy_parameters(self):\n",
    "        \"\"\"Copy the parameters of the online network to the offline network\"\"\"\n",
    "\n",
    "        weights = self.DQN_online.get_weights()\n",
    "        self.DQN_offline.set_weights(weights)\n"
   ]
  },
  {
   "cell_type": "markdown",
   "metadata": {},
   "source": [
    "Let's instantiate an agent :"
   ]
  },
  {
   "cell_type": "code",
   "execution_count": 32,
   "metadata": {},
   "outputs": [],
   "source": [
    "tf.random.set_seed(SEED)\n",
    "agent_dq = DQAgent(nb_channels=7, learning_rate=0.01, gamma=1)"
   ]
  },
  {
   "cell_type": "markdown",
   "metadata": {},
   "source": [
    "We need to populate the history before we can learn :"
   ]
  },
  {
   "cell_type": "code",
   "execution_count": 33,
   "metadata": {},
   "outputs": [],
   "source": [
    "np.random.seed(SEED)\n",
    "\n",
    "epsilon = 1\n",
    "\n",
    "# Run 200 episodes\n",
    "for i in range(200):\n",
    "    dq_env.initialize()\n",
    "    state = dq_env.get_init_state()\n",
    "    \n",
    "    action = agent_dq.choose_action(state, epsilon)\n",
    "    reward, new_state = dq_env.run(action)\n",
    "    \n",
    "    agent_dq.insert_history(state, action, reward, new_state) # Insert state, action, reward, new state in history \n",
    "    \n",
    "    # While it's not the end of the episode\n",
    "    while new_state[2]==0 :\n",
    "        state = new_state\n",
    "        \n",
    "        action = agent_dq.choose_action(state, epsilon)\n",
    "        reward, new_state = dq_env.run(action)\n",
    "        \n",
    "        agent_dq.insert_history(state, action, reward, new_state) # Insert state, action, reward, new state in history "
   ]
  },
  {
   "cell_type": "markdown",
   "metadata": {},
   "source": [
    "Now that a first history has been built, we can train the agent :"
   ]
  },
  {
   "cell_type": "code",
   "execution_count": 34,
   "metadata": {},
   "outputs": [
    {
     "name": "stdout",
     "output_type": "stream",
     "text": [
      "10, 20, 30, 40, 50, 60, 70, 80, 90, 100, 110, 120, 130, 140, 150, 160, 170, 180, 190, 200, 210, 220, 230, 240, 250, "
     ]
    }
   ],
   "source": [
    "np.random.seed(SEED)\n",
    "nb_trainings = 250\n",
    "loss = []  # Keep trak of the losses\n",
    "epsilon = 0.75 \n",
    "\n",
    "for i in range(nb_trainings):\n",
    "    dq_env.initialize()\n",
    "    state = dq_env.get_init_state()\n",
    "    \n",
    "    action = agent_dq.choose_action(state, epsilon)\n",
    "    reward, new_state = dq_env.run(action)\n",
    "    agent_dq.insert_history(state, action, reward, new_state) # Insert state, action, reward, new state in history \n",
    "    agent_dq.learn(10) # Each time we store a new history, we perform a training on random data\n",
    "    \n",
    "    # While it's not the end of the episode\n",
    "    while new_state[2]==0 :\n",
    "        state = new_state\n",
    "        action = agent_dq.choose_action(state, epsilon)\n",
    "        reward, new_state = dq_env.run(action)\n",
    "        agent_dq.insert_history(state, action, reward, new_state) # Insert state, action, reward, new state in history \n",
    "        agent_dq.learn(10) # Each time we store a new history, we perform a training on random data\n",
    "    \n",
    "    loss.append(tf.reduce_mean(agent_dq.loss).numpy()) #Save the losses for future visualization\n",
    "    \n",
    "    #Every 10 iterations we copy the parameters of the online DQN to the offline DQN\n",
    "    if (i+1)%10 == 0:\n",
    "        agent_dq.copy_parameters()\n",
    "        print((i+1), end=', ')"
   ]
  },
  {
   "cell_type": "markdown",
   "metadata": {},
   "source": [
    "We can visalize the training loss :"
   ]
  },
  {
   "cell_type": "code",
   "execution_count": 35,
   "metadata": {},
   "outputs": [
    {
     "data": {
      "text/plain": [
       "[<matplotlib.lines.Line2D at 0x7f15d0305400>]"
      ]
     },
     "execution_count": 35,
     "metadata": {},
     "output_type": "execute_result"
    },
    {
     "data": {
      "image/png": "[encoded data removed]",
      "text/plain": [
       "<Figure size 432x288 with 1 Axes>"
      ]
     },
     "metadata": {
      "needs_background": "light"
     },
     "output_type": "display_data"
    }
   ],
   "source": [
    "plt.semilogy(np.arange(len(loss)), loss)"
   ]
  },
  {
   "cell_type": "markdown",
   "metadata": {},
   "source": [
    "What did the agent learned ?"
   ]
  },
  {
   "cell_type": "code",
   "execution_count": 38,
   "metadata": {
    "scrolled": true
   },
   "outputs": [
    {
     "name": "stdout",
     "output_type": "stream",
     "text": [
      "4/5 packets have been transmitted\n"
     ]
    },
    {
     "data": {
      "image/png": "[encoded data removed]",
      "text/plain": [
       "<Figure size 432x288 with 1 Axes>"
      ]
     },
     "metadata": {
      "needs_background": "light"
     },
     "output_type": "display_data"
    }
   ],
   "source": [
    "evaluate_dq_agent(agent_dq, dq_env.grid, display=True);"
   ]
  },
  {
   "cell_type": "markdown",
   "metadata": {},
   "source": [
    "**With this flexible agent, we can play with bigger channels !**\n",
    "\n",
    "Here with 9 channels and 15 states :"
   ]
  },
  {
   "cell_type": "code",
   "execution_count": 278,
   "metadata": {
    "scrolled": true
   },
   "outputs": [
    {
     "name": "stdout",
     "output_type": "stream",
     "text": [
      "This environment has 9 different channels\n"
     ]
    },
    {
     "data": {
      "image/png": "[encoded data removed]",
      "text/plain": [
       "<Figure size 432x288 with 1 Axes>"
      ]
     },
     "metadata": {
      "needs_background": "light"
     },
     "output_type": "display_data"
    }
   ],
   "source": [
    "dq_env = DQEnv(nb_channels=9, nb_states=15, random=True)"
   ]
  },
  {
   "cell_type": "markdown",
   "metadata": {},
   "source": [
    "The channels above are generated randomly. Execute the cell until you find ones that please you !"
   ]
  },
  {
   "cell_type": "code",
   "execution_count": 279,
   "metadata": {},
   "outputs": [],
   "source": [
    "tf.random.set_seed(SEED)\n",
    "agent_dq = DQAgent(nb_channels=9, learning_rate=0.01, gamma=1)"
   ]
  },
  {
   "cell_type": "code",
   "execution_count": 280,
   "metadata": {},
   "outputs": [],
   "source": [
    "np.random.seed(SEED)\n",
    "\n",
    "epsilon = 1\n",
    "\n",
    "# Build a first history\n",
    "for i in range(200):\n",
    "    dq_env.initialize()\n",
    "    state = dq_env.get_init_state()\n",
    "    action = agent_dq.choose_action(state, epsilon)\n",
    "    reward, new_state = dq_env.run(action)\n",
    "    agent_dq.insert_history(state, action, reward, new_state)\n",
    "    while new_state[2]==0 :\n",
    "        state = new_state\n",
    "        action = agent_dq.choose_action(state, epsilon)\n",
    "        reward, new_state = dq_env.run(action)\n",
    "        agent_dq.insert_history(state, action, reward, new_state)  "
   ]
  },
  {
   "cell_type": "code",
   "execution_count": 281,
   "metadata": {},
   "outputs": [
    {
     "name": "stdout",
     "output_type": "stream",
     "text": [
      "50, 100, 150, 200, 250, 300, 350, 400, 450, 500, "
     ]
    }
   ],
   "source": [
    "np.random.seed(SEED)\n",
    "nb_trainings = 500\n",
    "loss = []    \n",
    "epsilon = 0.5\n",
    "\n",
    "for i in range(nb_trainings):\n",
    "    dq_env.initialize()\n",
    "    state = dq_env.get_init_state()\n",
    "    action = agent_dq.choose_action(state, epsilon)\n",
    "    reward, new_state = dq_env.run(action)\n",
    "    agent_dq.insert_history(state, action, reward, new_state)\n",
    "    agent_dq.learn(10)\n",
    "    \n",
    "    while new_state[2]==0 :\n",
    "        state = new_state\n",
    "        action = agent_dq.choose_action(state, epsilon)\n",
    "        reward, new_state = dq_env.run(action)\n",
    "        agent_dq.insert_history(state, action, reward, new_state) \n",
    "        agent_dq.learn(10)\n",
    "    loss.append(tf.reduce_mean(agent_dq.loss).numpy())\n",
    "    \n",
    "    if (i+1)%50 == 0:\n",
    "        agent_dq.copy_parameters()\n",
    "        print((i+1), end=', ')"
   ]
  },
  {
   "cell_type": "code",
   "execution_count": 282,
   "metadata": {},
   "outputs": [
    {
     "name": "stdout",
     "output_type": "stream",
     "text": [
      "9/15 packets have been transmitted\n"
     ]
    },
    {
     "data": {
      "image/png": "[encoded data removed]",
      "text/plain": [
       "<Figure size 432x288 with 1 Axes>"
      ]
     },
     "metadata": {
      "needs_background": "light"
     },
     "output_type": "display_data"
    }
   ],
   "source": [
    "evaluate_dq_agent(agent_dq, dq_env.grid, display=True);"
   ]
  },
  {
   "cell_type": "markdown",
   "metadata": {},
   "source": [
    "I hope you enjoyed this course :)"
   ]
  },
  {
   "cell_type": "code",
   "execution_count": null,
   "metadata": {},
   "outputs": [],
   "source": []
  }
 ],
 "metadata": {
  "kernelspec": {
   "display_name": "Python 3",
   "language": "python",
   "name": "python3"
  },
  "language_info": {
   "codemirror_mode": {
    "name": "ipython",
    "version": 3
   },
   "file_extension": ".py",
   "mimetype": "text/x-python",
   "name": "python",
   "nbconvert_exporter": "python",
   "pygments_lexer": "ipython3",
   "version": "3.6.9"
  }
 },
 "nbformat": 4,
 "nbformat_minor": 4
}
