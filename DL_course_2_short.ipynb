{
 "cells": [
  {
   "cell_type": "markdown",
   "metadata": {},
   "source": [
    "# Deep Learning with Tensorflow - tutorial"
   ]
  },
  {
   "cell_type": "markdown",
   "metadata": {},
   "source": [
    "This Tensorflow tutorial is based on the following links:\n",
    "\n",
    "- https://www.tensorflow.org/tutorials/quickstart/advanced\n",
    "- https://www.tensorflow.org/guide/keras/custom_layers_and_models"
   ]
  },
  {
   "cell_type": "markdown",
   "metadata": {},
   "source": [
    "The goal is to perform a classification task with the MNIST dataset:\n",
    "Given the black and white picture of a number, a neural network will be trained to predict the correct number.\n",
    "\n",
    "<img src=\"https://miro.medium.com/max/2200/1*XdCMCaHPt-pqtEibUfAnNw.png\" alt=\"Drawing\" style=\"width: 400px;\"/>"
   ]
  },
  {
   "cell_type": "markdown",
   "metadata": {},
   "source": [
    "# Initialisation"
   ]
  },
  {
   "cell_type": "markdown",
   "metadata": {},
   "source": [
    "**First : change the runtime and hardware acceleration**\n",
    "\n",
    "Runtime $\\rightarrow$ Change runtime type\n",
    "\n",
    "- Runtime type : Python 3\n",
    "- Hardware accelerator : GPU"
   ]
  },
  {
   "cell_type": "code",
   "execution_count": 1,
   "metadata": {},
   "outputs": [],
   "source": [
    "# Install TensorFlow 2.0 on Google Collab if needed\n",
    "try:\n",
    "  # %tensorflow_version only exists in Colab.\n",
    "  %tensorflow_version 2.x\n",
    "except Exception:\n",
    "    pass"
   ]
  },
  {
   "cell_type": "code",
   "execution_count": 1,
   "metadata": {},
   "outputs": [],
   "source": [
    "import numpy as np\n",
    "import matplotlib\n",
    "import matplotlib.pyplot as plt  "
   ]
  },
  {
   "cell_type": "code",
   "execution_count": 2,
   "metadata": {},
   "outputs": [
    {
     "name": "stdout",
     "output_type": "stream",
     "text": [
      "Tensorflow version:  2.1.0\n",
      "Number of GPUs available : 4\n",
      "Only GPU number 0 used\n"
     ]
    }
   ],
   "source": [
    "#Set the GPU you want to use\n",
    "num_GPU = 0\n",
    "\n",
    "import tensorflow as tf\n",
    "print('Tensorflow version: ', tf.__version__)\n",
    "\n",
    "gpus = tf.config.experimental.list_physical_devices(\"GPU\")\n",
    "print('Number of GPUs available :', len(gpus))\n",
    "\n",
    "if num_GPU < len(gpus):\n",
    "    tf.config.experimental.set_visible_devices(gpus[num_GPU], 'GPU')\n",
    "    tf.config.experimental.set_memory_growth(gpus[num_GPU], True)\n",
    "    print('Only GPU number', num_GPU, 'used')"
   ]
  },
  {
   "cell_type": "markdown",
   "metadata": {},
   "source": [
    "# Tensorflow for beginners"
   ]
  },
  {
   "cell_type": "markdown",
   "metadata": {},
   "source": [
    "![Keras](https://github.com/mgoutay/ml_course/blob/master/Images/Keras.png?raw=true)\n",
    "\n",
    "Imports pre-made Keras Layers"
   ]
  },
  {
   "cell_type": "code",
   "execution_count": 3,
   "metadata": {},
   "outputs": [],
   "source": [
    "from tensorflow import keras\n",
    "from tensorflow.keras.layers import Flatten, Dense, Softmax\n",
    "from tensorflow.keras import Model"
   ]
  },
  {
   "cell_type": "markdown",
   "metadata": {},
   "source": [
    "## Dataset"
   ]
  },
  {
   "cell_type": "markdown",
   "metadata": {},
   "source": [
    "Load and prepare the [MNIST dataset](http://yann.lecun.com/exdb/mnist/). \n",
    "\n",
    "It consists in B&W handwritten digits (matrices of size 28x28) and their corresponding labels"
   ]
  },
  {
   "cell_type": "code",
   "execution_count": 4,
   "metadata": {},
   "outputs": [],
   "source": [
    "mnist = tf.keras.datasets.mnist\n",
    "\n",
    "(x_train, y_train), (x_test, y_test) = mnist.load_data()\n",
    "x_train, x_test = x_train / 255.0, x_test / 255.0\n",
    "x_train = x_train.astype(np.float32)\n",
    "x_test = x_test.astype(np.float32)"
   ]
  },
  {
   "cell_type": "markdown",
   "metadata": {},
   "source": [
    "See what's inside the dataset, here with the three first digits and their corresponding labels :"
   ]
  },
  {
   "cell_type": "code",
   "execution_count": 5,
   "metadata": {},
   "outputs": [
    {
     "data": {
      "image/png": "[encoded data removed]",
      "text/plain": [
       "<Figure size 972x288 with 3 Axes>"
      ]
     },
     "metadata": {
      "needs_background": "light"
     },
     "output_type": "display_data"
    },
    {
     "name": "stdout",
     "output_type": "stream",
     "text": [
      "Corresponding labels: 5, 0, 4\n"
     ]
    }
   ],
   "source": [
    "fig = plt.figure(figsize=(3*4.5, 4))\n",
    "for i in range(3):\n",
    "    fig.add_subplot(1, 3, i+1)\n",
    "    plt.imshow(x_train[i], cmap='gray')\n",
    "plt.show()\n",
    "print('Corresponding labels: '+ str(y_train[0])+ ', '+str(y_train[1])+ ', '+ str(y_train[2]))"
   ]
  },
  {
   "cell_type": "markdown",
   "metadata": {},
   "source": [
    "## Building the model"
   ]
  },
  {
   "cell_type": "markdown",
   "metadata": {},
   "source": [
    "Building a custom `tf.keras` Model (https://www.tensorflow.org/guide/keras/custom_layers_and_models):"
   ]
  },
  {
   "cell_type": "markdown",
   "metadata": {},
   "source": [
    "A model has at least two methods:\n",
    "\n",
    "- The `__init__` methods : here you define the model's attributes. All layers that will be used needs to be defined here\n",
    "- the `call` method : here you write the forward pass of your model\n",
    "\n",
    "`super` calls the parent's constructor. We won't go into details..."
   ]
  },
  {
   "cell_type": "code",
   "execution_count": 6,
   "metadata": {},
   "outputs": [],
   "source": [
    "class MyModel(Model):\n",
    "    def __init__(self):\n",
    "        super(MyModel, self).__init__()\n",
    "        \n",
    "        # Define your model's attributes\n",
    "        self.flat = Flatten(input_shape=(28, 28))\n",
    "        self.d1 = Dense(64, activation='relu')\n",
    "        self.d2 = Dense(10)\n",
    "        self.smax = Softmax()\n",
    "    \n",
    "    def call(self, x):\n",
    "        #write the forward pass\n",
    "        self.x1 = self.flat(x)\n",
    "        self.x2 = self.d1(self.x1)\n",
    "        self.x3 = self.d2(self.x2)\n",
    "        self.x4 = self.smax(self.x3)\n",
    "        return self.x4"
   ]
  },
  {
   "cell_type": "code",
   "execution_count": 7,
   "metadata": {},
   "outputs": [],
   "source": [
    "# Create an instance of the model\n",
    "model = MyModel()"
   ]
  },
  {
   "cell_type": "markdown",
   "metadata": {},
   "source": [
    "The output is a vector of probabilities.\n",
    "Let's create a batch with the 3 first example in the dataset and predict their probabilities :"
   ]
  },
  {
   "cell_type": "code",
   "execution_count": 8,
   "metadata": {},
   "outputs": [
    {
     "name": "stdout",
     "output_type": "stream",
     "text": [
      "tf.Tensor(\n",
      "[[0.13642977 0.07383027 0.10106032 0.14642367 0.09288557 0.10189948\n",
      "  0.08882688 0.10454659 0.09274826 0.06134914]\n",
      " [0.1482578  0.05398727 0.13790743 0.11489546 0.06555498 0.07828671\n",
      "  0.1302059  0.12391818 0.10116591 0.04582038]\n",
      " [0.12038255 0.08371846 0.11004859 0.14390941 0.09160648 0.07319326\n",
      "  0.11261486 0.10843419 0.09984627 0.05624596]], shape=(3, 10), dtype=float32)\n"
     ]
    }
   ],
   "source": [
    "batch = x_train[:3]\n",
    "probas = model(batch)\n",
    "print(probas)"
   ]
  },
  {
   "cell_type": "markdown",
   "metadata": {},
   "source": [
    "We can take the $\\text{argmax}$ of each vector to see the digit with the highest predicted probability:"
   ]
  },
  {
   "cell_type": "code",
   "execution_count": 9,
   "metadata": {},
   "outputs": [
    {
     "name": "stdout",
     "output_type": "stream",
     "text": [
      "Predictions : [3 0 3]\n",
      "Labels : [5 0 4]\n"
     ]
    }
   ],
   "source": [
    "predictions = tf.argmax(probas, axis=1)\n",
    "print('Predictions : ' + str(predictions.numpy()))\n",
    "print('Labels : ' + str(y_train[:3]))"
   ]
  },
  {
   "cell_type": "markdown",
   "metadata": {},
   "source": [
    "The model is not trained and the predictions are totally wrong.\n",
    "\n",
    "**So how do we train it?**\n",
    "\n",
    "First, we need a loss function : for a classification task, it is the *categorical cross-entropy* :"
   ]
  },
  {
   "cell_type": "markdown",
   "metadata": {},
   "source": [
    "<img src=\"https://github.com/mgoutay/ml_course/blob/master/Images/CE.JPG?raw=true\" alt=\"Drawing\" style=\"width: 700px;\"/>"
   ]
  },
  {
   "cell_type": "markdown",
   "metadata": {},
   "source": [
    "For one example in the batch :\n",
    "$$ CE = \\sum_{j=1}^{C} -p_{j} log (\\hat{p}_{j})$$\n",
    "Averaging on the entire batch :\n",
    "$$ CE = \\frac{1}{Bs} \\sum_{i=1}^{Bs} \\sum_{j=1}^{C} -p_{i,j} log (\\hat{p}_{i,j})$$\n",
    "\n",
    "**The cross-entropy is a measure of the difference between two probability distributions $p$ and $\\hat{p}$**"
   ]
  },
  {
   "cell_type": "code",
   "execution_count": 10,
   "metadata": {},
   "outputs": [],
   "source": [
    "loss_fn = tf.keras.losses.SparseCategoricalCrossentropy()"
   ]
  },
  {
   "cell_type": "markdown",
   "metadata": {},
   "source": [
    "Test the untrained network on the 3 first examples of the dataset:"
   ]
  },
  {
   "cell_type": "code",
   "execution_count": 11,
   "metadata": {},
   "outputs": [
    {
     "data": {
      "text/plain": [
       "<tf.Tensor: shape=(), dtype=float32, numpy=2.194275>"
      ]
     },
     "execution_count": 11,
     "metadata": {},
     "output_type": "execute_result"
    }
   ],
   "source": [
    "loss_fn(y_train[:3], probas)"
   ]
  },
  {
   "cell_type": "markdown",
   "metadata": {},
   "source": [
    "The loss is BIG. That's normal, the NN is not trained.\n",
    "\n",
    "So, let's train the model !"
   ]
  },
  {
   "cell_type": "markdown",
   "metadata": {},
   "source": [
    "# Training"
   ]
  },
  {
   "cell_type": "markdown",
   "metadata": {},
   "source": [
    "## Automatic differentiation"
   ]
  },
  {
   "cell_type": "markdown",
   "metadata": {},
   "source": [
    "The `tf.GradientTape API` provides automatic differentiation.\n",
    "\n",
    "All operations executed inside a gradient tape are recorded:\n",
    "\n",
    "Let's say that we have a feature $x = 3$\n",
    "\n",
    "A function implements $y=x^2$\n",
    "\n",
    "We can find the derivative of $y$ w.r.t. $x$ : $\\frac{dy}{dx} = 2x = 6$"
   ]
  },
  {
   "cell_type": "code",
   "execution_count": 12,
   "metadata": {},
   "outputs": [
    {
     "name": "stdout",
     "output_type": "stream",
     "text": [
      "tf.Tensor(6.0, shape=(), dtype=float32)\n"
     ]
    }
   ],
   "source": [
    "x = tf.Variable(3.0)\n",
    "with tf.GradientTape() as tape :\n",
    "    y = tf.square(x)\n",
    "dy_dx = tape.gradient(y,x)\n",
    "print(dy_dx)"
   ]
  },
  {
   "cell_type": "markdown",
   "metadata": {},
   "source": [
    "## Datasets"
   ]
  },
  {
   "cell_type": "markdown",
   "metadata": {},
   "source": [
    "Datasets are a cleaner way to manipulate large amount of date\n",
    "\n",
    "Use `tf.data` to batch and shuffle the dataset:\n",
    "\n"
   ]
  },
  {
   "cell_type": "code",
   "execution_count": 13,
   "metadata": {},
   "outputs": [],
   "source": [
    "train_ds = tf.data.Dataset.from_tensor_slices((x_train, y_train)).shuffle(10000).batch(128)\n",
    "\n",
    "test_ds = tf.data.Dataset.from_tensor_slices((x_test, y_test)).batch(128)"
   ]
  },
  {
   "cell_type": "markdown",
   "metadata": {},
   "source": [
    "## The optimizer and loss function"
   ]
  },
  {
   "cell_type": "markdown",
   "metadata": {},
   "source": [
    "Choose an optimizer and loss function for training:"
   ]
  },
  {
   "cell_type": "code",
   "execution_count": 14,
   "metadata": {},
   "outputs": [],
   "source": [
    "optimizer = tf.keras.optimizers.Adam()\n",
    "#loss_fn = tf.keras.losses.SparseCategoricalCrossentropy()"
   ]
  },
  {
   "cell_type": "markdown",
   "metadata": {},
   "source": [
    "## The training loop"
   ]
  },
  {
   "cell_type": "code",
   "execution_count": 15,
   "metadata": {},
   "outputs": [
    {
     "name": "stdout",
     "output_type": "stream",
     "text": [
      "Loss after each epoch:\n",
      "0.23778343, 0.1761109, 0.14520392, 0.13236305, 0.11093433, Done\n"
     ]
    }
   ],
   "source": [
    "#Define the number of epochs\n",
    "nb_epoch = 5\n",
    "\n",
    "print('Loss after each epoch:')\n",
    "\n",
    "for epoch in range(nb_epoch):\n",
    "    \n",
    "    # Iterate over the batches of the dataset.\n",
    "    for step, (features, labels) in enumerate(train_ds):\n",
    "        \n",
    "        # Open a GradientTape.\n",
    "        with tf.GradientTape() as tape:\n",
    "\n",
    "            # Forward pass.\n",
    "            probas = model(features)\n",
    "\n",
    "            # Loss value for this batch.\n",
    "            loss_value =  loss_fn(y_true=labels, y_pred=probas)\n",
    "\n",
    "        # Get gradients of loss wrt the weights.\n",
    "        gradients = tape.gradient(loss_value, model.trainable_weights)\n",
    "\n",
    "        # Update the weights of our linear layer.\n",
    "        optimizer.apply_gradients(zip(gradients, model.trainable_weights))\n",
    "    \n",
    "    #Test the model on the test datasets\n",
    "    test_loss = 0.\n",
    "    for step, (features, labels) in enumerate(test_ds):\n",
    "        probas = model(features)\n",
    "        test_loss += loss_fn(y_true=labels, y_pred=probas)\n",
    "    print((test_loss/(step+1)).numpy(), end=', ')\n",
    "print('Done')"
   ]
  },
  {
   "cell_type": "markdown",
   "metadata": {},
   "source": [
    "Let's predict again the first 3 examples of the dataset"
   ]
  },
  {
   "cell_type": "code",
   "execution_count": 16,
   "metadata": {},
   "outputs": [
    {
     "data": {
      "image/png": "[encoded data removed]",
      "text/plain": [
       "<Figure size 972x288 with 3 Axes>"
      ]
     },
     "metadata": {
      "needs_background": "light"
     },
     "output_type": "display_data"
    },
    {
     "name": "stdout",
     "output_type": "stream",
     "text": [
      "Predictions : \n",
      "tf.Tensor([5 0 4], shape=(3,), dtype=int64)\n"
     ]
    }
   ],
   "source": [
    "fig = plt.figure(figsize=(3*4.5, 4))\n",
    "for i in range(3):\n",
    "    fig.add_subplot(1, 3, i+1)\n",
    "    plt.imshow(x_train[i], cmap='gray')\n",
    "plt.show()\n",
    "print('Predictions : ')\n",
    "\n",
    "predictions = model(x_train[:3])\n",
    "print(tf.argmax(predictions, axis=1))"
   ]
  },
  {
   "cell_type": "code",
   "execution_count": null,
   "metadata": {},
   "outputs": [],
   "source": []
  }
 ],
 "metadata": {
  "kernelspec": {
   "display_name": "Python 3",
   "language": "python",
   "name": "python3"
  },
  "language_info": {
   "codemirror_mode": {
    "name": "ipython",
    "version": 3
   },
   "file_extension": ".py",
   "mimetype": "text/x-python",
   "name": "python",
   "nbconvert_exporter": "python",
   "pygments_lexer": "ipython3",
   "version": "3.6.9"
  }
 },
 "nbformat": 4,
 "nbformat_minor": 4
}
